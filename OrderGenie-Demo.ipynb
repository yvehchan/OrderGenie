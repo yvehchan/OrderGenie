{
 "cells": [
  {
   "cell_type": "code",
   "execution_count": 1,
   "metadata": {
    "collapsed": true
   },
   "outputs": [],
   "source": [
    "import warnings\n",
    "warnings.filterwarnings('ignore')\n",
    "import pandas as pd\n",
    "import pandas.io.sql as psql\n",
    "import numpy as np\n",
    "import matplotlib.pyplot as plt\n",
    "import itertools\n",
    "import matplotlib.dates as mdates\n",
    "#from pandas.core import datetools\n",
    "import datetime as dt\n",
    "from datetime import datetime\n",
    "import time\n",
    "from datetime import timedelta\n",
    "#import sklearn\n",
    "#import statsmodels\n",
    "from collections import defaultdict, Counter\n",
    "from mlxtend.frequent_patterns import apriori\n",
    "from mlxtend.frequent_patterns import association_rules\n",
    "from fbprophet import Prophet \n",
    "from itertools import chain, combinations\n",
    "import math\n",
    "import matplotlib.ticker as ticker"
   ]
  },
  {
   "cell_type": "code",
   "execution_count": 2,
   "metadata": {
    "collapsed": true
   },
   "outputs": [],
   "source": [
    "%matplotlib inline\n",
    "\n",
    "##need to change to user input for company id from commandline in script \n",
    "company_id = 75"
   ]
  },
  {
   "cell_type": "code",
   "execution_count": 3,
   "metadata": {
    "collapsed": true
   },
   "outputs": [],
   "source": [
    "with open('config.json') as f:\n",
    "    conf = json.load(f)\n",
    "    \n",
    "host = conf[\"host\"]\n",
    "database = conf[\"database\"]\n",
    "user = conf[\"user\"]\n",
    "password = conf[\"password\"]\n",
    "port = conf[\"port\"]\n",
    "\n",
    "conn_str = \"host={} dbname={} user={} password={} port={}\".format(host, database, user, password, port)\n",
    "conn = psycopg2.connect(conn_str)"
   ]
  },
  {
   "cell_type": "code",
   "execution_count": 5,
   "metadata": {
    "collapsed": true
   },
   "outputs": [],
   "source": [
    "# ### get all orders from actual_order_id\n",
    "query = \"\"\" \n",
    "    SELECT actual_order_id, quantity, price, name, total, variant_id\n",
    "    FROM actual_line_items\n",
    "\"\"\"\n",
    "line_items = pd.read_sql_query(query, con=conn)"
   ]
  },
  {
   "cell_type": "code",
   "execution_count": 6,
   "metadata": {
    "collapsed": true
   },
   "outputs": [],
   "source": [
    "###--- orders with missing line items are discarded. \n",
    "missing_variant_ids = line_items[line_items['variant_id'].isnull()]\n",
    "line_items = line_items[~line_items['variant_id'].isnull()]\n",
    "line_items.variant_id = line_items.variant_id.astype(int)"
   ]
  },
  {
   "cell_type": "code",
   "execution_count": 7,
   "metadata": {
    "collapsed": true
   },
   "outputs": [],
   "source": [
    "# ### read spree_variants, renamed \"id\" to \"variant_id\"\n",
    "spree_variant_col = \"id, sku\" \n",
    "spree_variant = pd.read_sql_query('SELECT %s FROM spree_variants' %(spree_variant_col), con=conn)\n",
    "spree_variant = spree_variant.rename(columns={'id': 'variant_id'})\n",
    "\n",
    "#add sku numbers to line items \n",
    "line_items = pd.merge(line_items, spree_variant, how='left',  left_on='variant_id', right_on='variant_id').reset_index(drop=True)"
   ]
  },
  {
   "cell_type": "code",
   "execution_count": 8,
   "metadata": {
    "collapsed": true
   },
   "outputs": [],
   "source": [
    "company_col_str = \"id,name\"\n",
    "company   = pd.read_sql_query('SELECT %s from companies' % (company_col_str),con=conn)\n",
    "company = company.rename(columns={'id': 'company_id'})"
   ]
  },
  {
   "cell_type": "code",
   "execution_count": 9,
   "metadata": {
    "collapsed": true
   },
   "outputs": [],
   "source": [
    "######--------------------------------------------########\n",
    "######----Remove this limit for your pipeline-----########\n",
    "######--------------------------------------------########\n",
    "\n",
    "# ### read \"actual_orders\", id = order id\n",
    "# ### limit date range from last 120 days to current date,  exclude future orders\n",
    "\n",
    "curr_date = dt.date.today()\n",
    "daysofhistory = 120 #days\n",
    "cutoffdate = curr_date - dt.timedelta(days=daysofhistory)"
   ]
  },
  {
   "cell_type": "code",
   "execution_count": 10,
   "metadata": {
    "collapsed": true
   },
   "outputs": [],
   "source": [
    "query = \"\"\" \n",
    "    SELECT id, company_id, total, order_date\n",
    "    FROM actual_orders\n",
    "    WHERE order_date >= %(start)s and order_date <= %(curr_date)s\n",
    "\"\"\"\n",
    "query_params = {'start': cutoffdate, 'curr_date': curr_date}\n",
    "order = pd.read_sql_query(query, con=conn, params=query_params)\n",
    "order = order.sort_values([\"order_date\"],ascending = False)\n",
    "order = order.rename(columns={'id': 'actual_order_id'})"
   ]
  },
  {
   "cell_type": "code",
   "execution_count": 11,
   "metadata": {
    "collapsed": true
   },
   "outputs": [],
   "source": [
    "all_orders = []\n",
    "\n",
    "for index, row in order.iterrows():\n",
    "    all_orders.append (line_items.loc[line_items[\"actual_order_id\"] == row[\"actual_order_id\"]])        \n",
    "all_orders_df = pd.concat(all_orders).reset_index(drop = True)"
   ]
  },
  {
   "cell_type": "code",
   "execution_count": 12,
   "metadata": {
    "collapsed": true
   },
   "outputs": [],
   "source": [
    "all_orders_over_time = pd.merge(all_orders_df, order, left_on='actual_order_id', right_on='actual_order_id')\n",
    "all_orders_over_time = all_orders_over_time.rename(columns={'total_x': 'total_for_item', 'total_y': 'total_for_order', 'name': 'prod_description'})\n",
    "all_orders_over_time['order_date'] = pd.to_datetime(all_orders_over_time['order_date'], errors='coerce').dt.date\n",
    "description_dict = dict(zip(all_orders_over_time.variant_id,all_orders_over_time.prod_description))\n"
   ]
  },
  {
   "cell_type": "code",
   "execution_count": 60,
   "metadata": {
    "collapsed": true
   },
   "outputs": [],
   "source": [
    "all_orders_over_time.to_csv(\"new_updated_all_orders.csv\", index=False)"
   ]
  },
  {
   "cell_type": "code",
   "execution_count": 13,
   "metadata": {
    "collapsed": true
   },
   "outputs": [],
   "source": [
    "##get date range\n",
    "earliestDate =  all_orders_over_time[\"order_date\"].min()\n",
    "xmin = earliestDate\n",
    "xmax = dt.date.today()\n",
    "xminaxis = xmin - timedelta(days=5)\n",
    "xmaxaxis = xmax + timedelta(days=12)"
   ]
  },
  {
   "cell_type": "code",
   "execution_count": 14,
   "metadata": {
    "collapsed": true
   },
   "outputs": [],
   "source": [
    "##--- get all orders by company--- \n",
    "def get_all_orders_by_company(df, company_id):\n",
    "    comp_order_df = df[df[\"company_id\"] == company_id].sort_values('order_date', ascending=False).reset_index(drop=True)\n",
    "    return comp_order_df "
   ]
  },
  {
   "cell_type": "code",
   "execution_count": 15,
   "metadata": {
    "collapsed": true
   },
   "outputs": [],
   "source": [
    "##--- get last order by company--- \n",
    "def get_last_order_by_company(df, company_id):\n",
    "    comp_order_df = get_all_orders_by_company(df, company_id)\n",
    "    last_order_num = comp_order_df.at[0,'actual_order_id']\n",
    "    last_order_df = comp_order_df[comp_order_df[\"actual_order_id\"] == last_order_num]\n",
    "    last_order_date = str(last_order_df[\"order_date\"][0])\n",
    "    return last_order_df\n",
    "\n",
    "def get_last_order_date(df, company_id):\n",
    "    comp_order_df = get_all_orders_by_company(df, company_id)\n",
    "    last_order_num = comp_order_df.at[0,'actual_order_id']\n",
    "    last_order_df = comp_order_df[comp_order_df[\"actual_order_id\"] == last_order_num]\n",
    "    last_order_date = str(last_order_df[\"order_date\"][0])\n",
    "    return last_order_date\n",
    "\n",
    "##--- get last 10% of order by company--- \n",
    "def get_last_ten_percent_order_by_company(df, company_id):\n",
    "    comp_order_df = get_all_orders_by_company(df, company_id)\n",
    "    uniqueOrders = comp_order_df[\"actual_order_id\"].drop_duplicates(keep = \"first\", inplace = False)\n",
    "    numOrders = uniqueOrders.shape[0]\n",
    "    tenPercentOrders = int(numOrders/10)\n",
    "    last_order_num_list = uniqueOrders.head(tenPercentOrders).tolist()\n",
    "    last_order_df = comp_order_df[comp_order_df[\"actual_order_id\"].isin(last_order_num_list)]\n",
    "    return last_order_df "
   ]
  },
  {
   "cell_type": "code",
   "execution_count": 16,
   "metadata": {
    "collapsed": true
   },
   "outputs": [],
   "source": [
    "def get_last_order_items(df, company_id):\n",
    "    last_order_df = get_last_order_by_company(df, company_id)\n",
    "    list_items_in_last_order = last_order_df.variant_id.unique()\n",
    "    return list_items_in_last_order"
   ]
  },
  {
   "cell_type": "code",
   "execution_count": 17,
   "metadata": {
    "collapsed": true
   },
   "outputs": [],
   "source": [
    "def get_last_order_date_item(df, company_id, product_id):\n",
    "    comp_order_df = get_all_orders_by_company(df, company_id)\n",
    "    item_df = comp_order_df[comp_order_df[\"variant_id\"] == product_id ]\n",
    "    sort_item_df = item_df.sort_values('order_date', ascending=False)\n",
    "    return sort_item_df[\"order_date\"].head(1)"
   ]
  },
  {
   "cell_type": "code",
   "execution_count": 18,
   "metadata": {
    "collapsed": true
   },
   "outputs": [],
   "source": [
    "def get_all_order_items(df, company_id):\n",
    "    comp_order_df = get_all_orders_by_company(df, company_id)\n",
    "    list_items_in_all_order = comp_order_df.variant_id.unique()\n",
    "    return list_items_in_all_order"
   ]
  },
  {
   "cell_type": "code",
   "execution_count": 19,
   "metadata": {
    "collapsed": true
   },
   "outputs": [],
   "source": [
    "def get_non_last_order_items(df, company_id):\n",
    "    list_items_in_all_order = get_all_order_items(df, company_id)\n",
    "    list_items_in_last_order = get_last_order_items(df, company_id)\n",
    "    list_prev_purch_items_not_in_last_order = list(set(list_items_in_all_order) - set(list_items_in_last_order))\n",
    "    return list_prev_purch_items_not_in_last_order"
   ]
  },
  {
   "cell_type": "code",
   "execution_count": 20,
   "metadata": {
    "collapsed": true
   },
   "outputs": [],
   "source": [
    "def get_all_except_last(df, company_id):\n",
    "    all_order_df = get_all_orders_by_company(df, company_id)\n",
    "    last_order_df = get_last_order_by_company(df, company_id)\n",
    "    i1 = all_order_df.index\n",
    "    i2 = last_order_df.index\n",
    "    all_minus_last_df = all_order_df[~i1.isin(i2)]\n",
    "    return all_minus_last_df\n",
    "        "
   ]
  },
  {
   "cell_type": "code",
   "execution_count": 21,
   "metadata": {
    "collapsed": true
   },
   "outputs": [],
   "source": [
    "def getTopFiveItemsNotInLastOrder(df, company_id):\n",
    "    all_minus_last_df = get_all_except_last(df, company_id)\n",
    "    all_minus_last_df[\"count\"] = all_minus_last_df['variant_id'].groupby(all_minus_last_df['variant_id']).transform('count')\n",
    "    all_minus_last_df[\"avg_quantity\"] = all_minus_last_df['quantity'].groupby(all_minus_last_df['variant_id']).transform('mean')\n",
    "    all_minus_last_df = all_minus_last_df.groupby(all_minus_last_df['variant_id']).first()\n",
    "    all_minus_last_df.avg_quantity = all_minus_last_df.avg_quantity.astype(int)\n",
    "    all_minus_last_df = all_minus_last_df.sort_values(\"count\", ascending = False).reset_index(drop=True)\n",
    "    if (all_minus_last_df.shape[0] >= 5):\n",
    "        return all_minus_last_df[[\"variant_id\", \"prod_description\", \"avg_quantity\"]].head(5)\n",
    "    else: \n",
    "        return all_minus_last_df[[\"variant_id\",\"prod_description\", \"avg_quantity\"]]"
   ]
  },
  {
   "cell_type": "code",
   "execution_count": 22,
   "metadata": {
    "collapsed": true
   },
   "outputs": [],
   "source": [
    "def getTopFiveItemsNotInCurrentOrder(df, company_id):\n",
    "    groupbysize = all_order_df.groupby(\"variant_id\").size().sort_values(ascending = False)\n",
    "    groupMean = all_order_df.groupby(\"variant_id\")[\"quantity\"].mean().astype(int)\n",
    "    avgQuantity = groupMean.to_dict()\n",
    "    filteredgroups = groupbysize.drop(groupbysize[trim_basket].index)\n",
    "    toplist = filteredgroups.index.tolist()\n",
    "    filteron = [\"variant_id\", \"prod_description\", \"quantity\"]\n",
    "    filtered_all_order = all_order_df.filter(items = filteron)\n",
    "    new_order = filtered_all_order[filtered_all_order['variant_id'].isin(toplist)]\n",
    "    filtered_new_order = new_order.drop_duplicates(subset='variant_id', keep='first', inplace=False).reset_index(drop=True)\n",
    "    filtered_new_order['Avg_quantity'] = filtered_new_order['variant_id'].map(avgQuantity)\n",
    "    filtered_new_order = filtered_new_order.drop(\"quantity\", axis=1)\n",
    "    if (filtered_new_order.shape[0] >= 5):\n",
    "        return filtered_new_order.head(5)\n",
    "    else: \n",
    "        return filtered_new_order"
   ]
  },
  {
   "cell_type": "code",
   "execution_count": 23,
   "metadata": {
    "collapsed": true
   },
   "outputs": [],
   "source": [
    "def encode_units(x):\n",
    "    if x <= 0:\n",
    "        return 0\n",
    "    if x >= 1:\n",
    "        return 1"
   ]
  },
  {
   "cell_type": "code",
   "execution_count": 24,
   "metadata": {
    "collapsed": true
   },
   "outputs": [],
   "source": [
    "def counter_cosine_similarity(c1, c2):\n",
    "    terms = set(c1).union(c2)\n",
    "    dotprod = sum(c1.get(k, 0) * c2.get(k, 0) for k in terms)\n",
    "    magA = math.sqrt(sum(c1.get(k, 0)**2 for k in terms))\n",
    "    magB = math.sqrt(sum(c2.get(k, 0)**2 for k in terms))\n",
    "    return dotprod / (magA * magB)"
   ]
  },
  {
   "cell_type": "code",
   "execution_count": 25,
   "metadata": {
    "collapsed": true
   },
   "outputs": [],
   "source": [
    "def getAssociations(df):\n",
    "    min_support_threshold = 0.07\n",
    "    lift_threshold = 1.1\n",
    "    confidence_threshold = 0.7\n",
    "\n",
    "    basket = (df.groupby(['actual_order_id', \"variant_id\"])['quantity']\n",
    "              .sum().unstack().reset_index().fillna(0)\n",
    "              .set_index('actual_order_id'))\n",
    "    basket_sets = basket.applymap(encode_units)\n",
    "    frequent_itemsets = apriori(basket_sets, min_support=min_support_threshold, use_colnames=True)\n",
    "    frequent_itemsets.head()\n",
    "    rules = association_rules(frequent_itemsets, metric=\"lift\", min_threshold=1)\n",
    "    rules = rules[ (rules['lift'] >= lift_threshold) & (rules['confidence'] >= confidence_threshold) ]\n",
    "    rules = rules.sort_values([\"support\"], ascending = False)\n",
    "    return rules\n"
   ]
  },
  {
   "cell_type": "code",
   "execution_count": 26,
   "metadata": {
    "collapsed": true
   },
   "outputs": [],
   "source": [
    "def filter_rules(rules, list_items):\n",
    "    all_combo = []\n",
    "    for L in range(0, len(list_items)+1):\n",
    "          for subset in itertools.combinations(list_items, L):\n",
    "            all_combo.append(frozenset(subset))\n",
    "    all_combo.pop(0) #remove empty set \n",
    "\n",
    "    all_index = []\n",
    "    for index, row in rules.iterrows():\n",
    "        for i in all_combo:\n",
    "            if (row[\"antecedants\"] == (i)):\n",
    "                all_index.append(index)\n",
    "                next\n",
    "    filtered_index_list = list(set(all_index))\n",
    "    filtered_df = rules.loc[filtered_index_list]\n",
    "    filtered_df['cos_similiarity'] = filtered_df['antecedants'].map(lambda a: counter_cosine_similarity(Counter(set(list_items)),Counter(a)))\n",
    "    sorted_df = filtered_df.sort_values( \"cos_similiarity\",ascending=False).reset_index(drop=True)  \n",
    "    return sorted_df\n"
   ]
  },
  {
   "cell_type": "code",
   "execution_count": 27,
   "metadata": {
    "collapsed": true
   },
   "outputs": [],
   "source": [
    "def getProductDescriptors(filtered_on_order):\n",
    "    for index, row in filtered_on_order.iterrows():\n",
    "        prod_list = list(row[\"antecedants\"])\n",
    "        desc_list = []\n",
    "        prod_list2 = list(row[\"consequents\"])\n",
    "        desc_list2 = []\n",
    "        for p in prod_list:\n",
    "            var_id = int(p)\n",
    "            desc_list.append(description_dict[var_id])     \n",
    "        for p in prod_list2:\n",
    "            var_id = int(p)\n",
    "            desc_list2.append(description_dict[var_id])  \n",
    "        str1 = ','.join(desc_list)\n",
    "        str2 = ','.join(desc_list2)\n",
    "        filtered_on_order.set_value(index, 'current_list', str1)\n",
    "        filtered_on_order.set_value(index, 'recommend_list', str2)\n",
    "        filtered_on_order.set_value(index, 'current_list_size', len(desc_list))\n",
    "        filtered_on_order.set_value(index, 'recommend_list_size', len(desc_list2))\n",
    "    filtered_on_order.sort_values( [\"current_list_size\", \"recommend_list_size\"],ascending=[False, False], inplace = True)\n",
    "    filtered_on_order[\"current_list\"] = filtered_on_order[\"current_list\"].astype(str)\n",
    "    filtered_on_order[\"recommend_list\"] = filtered_on_order[\"recommend_list\"].astype(str)\n",
    "    sorted_filtered_on_order = filtered_on_order.drop_duplicates(subset=\"current_list\", keep='first', inplace=False)\n",
    "    sorted_filtered_on_order = filtered_on_order.drop_duplicates(subset=\"recommend_list\", keep='first', inplace=False)\n",
    "\n",
    "    return sorted_filtered_on_order\n"
   ]
  },
  {
   "cell_type": "code",
   "execution_count": 28,
   "metadata": {
    "collapsed": true
   },
   "outputs": [],
   "source": [
    "def getCommonBoughtTogether(df, list_items):\n",
    "    rules = getAssociations(all_orders_over_time)\n",
    "    filtered_on_order = filter_rules(rules, list_items)\n",
    "    #create new column for description \n",
    "    filtered_on_order[\"current_list\"] = filtered_on_order[\"antecedants\"]\n",
    "    filtered_on_order[\"recommend_list\"] = filtered_on_order[\"antecedants\"]\n",
    "    filtered_on_order[\"current_list_size\"] = 0\n",
    "    filtered_on_order[\"recommend_list_size\"] = 0\n",
    "    detailed_df = getProductDescriptors(filtered_on_order)\n",
    "    if (detailed_df.shape[0] >= 5):\n",
    "        return detailed_df.head(5)\n",
    "    else: \n",
    "        return detailed_df"
   ]
  },
  {
   "cell_type": "code",
   "execution_count": 29,
   "metadata": {
    "collapsed": true
   },
   "outputs": [],
   "source": [
    "def getLastWeightedAvg(curr_timeseries):\n",
    "    decay_halflife = 4\n",
    "    expwighted_avg = pd.ewma(curr_timeseries, halflife=decay_halflife)\n",
    "    return int(expwighted_avg.iloc[-1])"
   ]
  },
  {
   "cell_type": "code",
   "execution_count": 30,
   "metadata": {
    "collapsed": true
   },
   "outputs": [],
   "source": [
    "def createTimeSeries(x, y):\n",
    "    new_index = pd.to_datetime(x) \n",
    "    select_item = pd.DataFrame(index=new_index)\n",
    "    select_item[\"Quantity\"] = y\n",
    "    ts = select_item[\"Quantity\"].squeeze()\n",
    "    return ts"
   ]
  },
  {
   "cell_type": "code",
   "execution_count": 31,
   "metadata": {
    "collapsed": true
   },
   "outputs": [],
   "source": [
    "def getCompanyGraph (fig, label, ax, order_date, quantity,earliestDate, latestDate): \n",
    "    #ax = fig.add_subplot(numRow, numCol, counter)\n",
    "    plt.xticks(rotation=70)\n",
    "    ax.plot(order_date,quantity, linestyle=\"dashed\", marker = \"o\", markerfacecolor=\"None\", markeredgecolor=\"red\", markeredgewidth=2, label=label)\n",
    "    ax.set_xlim(earliestDate, latestDate)\n",
    "    plt.setp( ax.xaxis.get_majorticklabels(), rotation=70 )\n",
    "    ax.legend()\n",
    "    return\n",
    "\n",
    "     \n",
    "def getWeightedAvgGraph(fig, var_id, label, ax, order_date, quantity,earliestDate, latestDate):\n",
    "    moving_avg_window = 8\n",
    "    decay_halflife = 4\n",
    "    ts = createTimeSeries(order_date, quantity)\n",
    "    expwighted_avg = pd.ewma(ts, halflife=decay_halflife)\n",
    "    #print expwighted_avg\n",
    "    #ts_ewma_diff = ts - expwighted_avg\n",
    "    plt.xticks(rotation=70)\n",
    "    ax.plot(ts, label = \"Observed\", markersize=3, marker = \"o\", markerfacecolor=\"None\", markeredgecolor=\"blue\", markeredgewidth=1)\n",
    "    ax.plot(expwighted_avg, color='red', linestyle=\"dashed\", label = \"Exp. rolling mean\")\n",
    "    ax.set_title(label)\n",
    "    ax.set_xlim(earliestDate, latestDate)\n",
    "    plt.setp( ax.xaxis.get_majorticklabels(), rotation=70 )\n",
    "    ax.legend()\n",
    "    return \n",
    "\n"
   ]
  },
  {
   "cell_type": "code",
   "execution_count": 32,
   "metadata": {
    "collapsed": true
   },
   "outputs": [],
   "source": [
    "\n",
    "if (all_orders_over_time[all_orders_over_time[\"company_id\"] == company_id].shape[0] == 0):\n",
    "    print (\"Invalid company ID\")\n",
    "else:    \n",
    "    all_order_df = get_all_orders_by_company(all_orders_over_time, company_id)\n",
    "    last_order_df = get_last_order_by_company(all_orders_over_time, company_id)\n",
    "    last_order_date = get_last_order_date(all_orders_over_time, company_id)\n",
    "    list_items_in_all_order = get_all_order_items(all_orders_over_time, company_id)\n",
    "    list_items_in_last_order = get_last_order_items(all_orders_over_time, company_id)\n",
    "    list_prev_purch_items_not_in_last_order = get_non_last_order_items(all_orders_over_time, company_id)\n",
    "    all_minus_last_df = get_all_except_last(all_order_df, company_id)\n",
    "    topFiveItemsNotInLastOrder = getTopFiveItemsNotInLastOrder(all_orders_over_time, company_id)\n"
   ]
  },
  {
   "cell_type": "code",
   "execution_count": 33,
   "metadata": {},
   "outputs": [
    {
     "data": {
      "text/html": [
       "<div>\n",
       "<style>\n",
       "    .dataframe thead tr:only-child th {\n",
       "        text-align: right;\n",
       "    }\n",
       "\n",
       "    .dataframe thead th {\n",
       "        text-align: left;\n",
       "    }\n",
       "\n",
       "    .dataframe tbody tr th {\n",
       "        vertical-align: top;\n",
       "    }\n",
       "</style>\n",
       "<table border=\"1\" class=\"dataframe\">\n",
       "  <thead>\n",
       "    <tr style=\"text-align: right;\">\n",
       "      <th></th>\n",
       "      <th>actual_order_id</th>\n",
       "      <th>quantity</th>\n",
       "      <th>price</th>\n",
       "      <th>prod_description</th>\n",
       "      <th>total_for_item</th>\n",
       "      <th>variant_id</th>\n",
       "      <th>sku</th>\n",
       "      <th>company_id</th>\n",
       "      <th>total_for_order</th>\n",
       "      <th>order_date</th>\n",
       "    </tr>\n",
       "  </thead>\n",
       "  <tbody>\n",
       "    <tr>\n",
       "      <th>0</th>\n",
       "      <td>23038</td>\n",
       "      <td>1.0</td>\n",
       "      <td>2.15</td>\n",
       "      <td>Organic Baby Carrots 2oz 6ct</td>\n",
       "      <td>2.15</td>\n",
       "      <td>3196</td>\n",
       "      <td>Carrots-Vegetable-Baby-2oz-Single-NYC</td>\n",
       "      <td>75</td>\n",
       "      <td>26.39</td>\n",
       "      <td>2017-10-25</td>\n",
       "    </tr>\n",
       "    <tr>\n",
       "      <th>1</th>\n",
       "      <td>23038</td>\n",
       "      <td>10.0</td>\n",
       "      <td>0.87</td>\n",
       "      <td>Bananas 1lb</td>\n",
       "      <td>8.70</td>\n",
       "      <td>3187</td>\n",
       "      <td>Bananas-Fruit-1lb-Single-NYC</td>\n",
       "      <td>75</td>\n",
       "      <td>26.39</td>\n",
       "      <td>2017-10-25</td>\n",
       "    </tr>\n",
       "    <tr>\n",
       "      <th>2</th>\n",
       "      <td>23038</td>\n",
       "      <td>3.0</td>\n",
       "      <td>2.39</td>\n",
       "      <td>Pears, 1lb</td>\n",
       "      <td>7.17</td>\n",
       "      <td>6388</td>\n",
       "      <td>OrganicFruits-Pears-1lb-Barlett-Single</td>\n",
       "      <td>75</td>\n",
       "      <td>26.39</td>\n",
       "      <td>2017-10-25</td>\n",
       "    </tr>\n",
       "  </tbody>\n",
       "</table>\n",
       "</div>"
      ],
      "text/plain": [
       "   actual_order_id  quantity  price              prod_description  \\\n",
       "0            23038       1.0   2.15  Organic Baby Carrots 2oz 6ct   \n",
       "1            23038      10.0   0.87                   Bananas 1lb   \n",
       "2            23038       3.0   2.39                    Pears, 1lb   \n",
       "\n",
       "   total_for_item  variant_id                                     sku  \\\n",
       "0            2.15        3196   Carrots-Vegetable-Baby-2oz-Single-NYC   \n",
       "1            8.70        3187            Bananas-Fruit-1lb-Single-NYC   \n",
       "2            7.17        6388  OrganicFruits-Pears-1lb-Barlett-Single   \n",
       "\n",
       "   company_id  total_for_order  order_date  \n",
       "0          75            26.39  2017-10-25  \n",
       "1          75            26.39  2017-10-25  \n",
       "2          75            26.39  2017-10-25  "
      ]
     },
     "execution_count": 33,
     "metadata": {},
     "output_type": "execute_result"
    }
   ],
   "source": [
    "all_order_df.head(3)"
   ]
  },
  {
   "cell_type": "code",
   "execution_count": 34,
   "metadata": {},
   "outputs": [
    {
     "data": {
      "text/html": [
       "<div>\n",
       "<style>\n",
       "    .dataframe thead tr:only-child th {\n",
       "        text-align: right;\n",
       "    }\n",
       "\n",
       "    .dataframe thead th {\n",
       "        text-align: left;\n",
       "    }\n",
       "\n",
       "    .dataframe tbody tr th {\n",
       "        vertical-align: top;\n",
       "    }\n",
       "</style>\n",
       "<table border=\"1\" class=\"dataframe\">\n",
       "  <thead>\n",
       "    <tr style=\"text-align: right;\">\n",
       "      <th></th>\n",
       "      <th>actual_order_id</th>\n",
       "      <th>quantity</th>\n",
       "      <th>price</th>\n",
       "      <th>prod_description</th>\n",
       "      <th>total_for_item</th>\n",
       "      <th>variant_id</th>\n",
       "      <th>sku</th>\n",
       "      <th>company_id</th>\n",
       "      <th>total_for_order</th>\n",
       "      <th>order_date</th>\n",
       "    </tr>\n",
       "  </thead>\n",
       "  <tbody>\n",
       "    <tr>\n",
       "      <th>0</th>\n",
       "      <td>23038</td>\n",
       "      <td>1.0</td>\n",
       "      <td>2.15</td>\n",
       "      <td>Organic Baby Carrots 2oz 6ct</td>\n",
       "      <td>2.15</td>\n",
       "      <td>3196</td>\n",
       "      <td>Carrots-Vegetable-Baby-2oz-Single-NYC</td>\n",
       "      <td>75</td>\n",
       "      <td>26.39</td>\n",
       "      <td>2017-10-25</td>\n",
       "    </tr>\n",
       "    <tr>\n",
       "      <th>1</th>\n",
       "      <td>23038</td>\n",
       "      <td>10.0</td>\n",
       "      <td>0.87</td>\n",
       "      <td>Bananas 1lb</td>\n",
       "      <td>8.70</td>\n",
       "      <td>3187</td>\n",
       "      <td>Bananas-Fruit-1lb-Single-NYC</td>\n",
       "      <td>75</td>\n",
       "      <td>26.39</td>\n",
       "      <td>2017-10-25</td>\n",
       "    </tr>\n",
       "    <tr>\n",
       "      <th>2</th>\n",
       "      <td>23038</td>\n",
       "      <td>3.0</td>\n",
       "      <td>2.39</td>\n",
       "      <td>Pears, 1lb</td>\n",
       "      <td>7.17</td>\n",
       "      <td>6388</td>\n",
       "      <td>OrganicFruits-Pears-1lb-Barlett-Single</td>\n",
       "      <td>75</td>\n",
       "      <td>26.39</td>\n",
       "      <td>2017-10-25</td>\n",
       "    </tr>\n",
       "  </tbody>\n",
       "</table>\n",
       "</div>"
      ],
      "text/plain": [
       "   actual_order_id  quantity  price              prod_description  \\\n",
       "0            23038       1.0   2.15  Organic Baby Carrots 2oz 6ct   \n",
       "1            23038      10.0   0.87                   Bananas 1lb   \n",
       "2            23038       3.0   2.39                    Pears, 1lb   \n",
       "\n",
       "   total_for_item  variant_id                                     sku  \\\n",
       "0            2.15        3196   Carrots-Vegetable-Baby-2oz-Single-NYC   \n",
       "1            8.70        3187            Bananas-Fruit-1lb-Single-NYC   \n",
       "2            7.17        6388  OrganicFruits-Pears-1lb-Barlett-Single   \n",
       "\n",
       "   company_id  total_for_order  order_date  \n",
       "0          75            26.39  2017-10-25  \n",
       "1          75            26.39  2017-10-25  \n",
       "2          75            26.39  2017-10-25  "
      ]
     },
     "execution_count": 34,
     "metadata": {},
     "output_type": "execute_result"
    }
   ],
   "source": [
    "last_order_df.head(3)"
   ]
  },
  {
   "cell_type": "code",
   "execution_count": 35,
   "metadata": {},
   "outputs": [
    {
     "data": {
      "text/plain": [
       "'2017-10-25'"
      ]
     },
     "execution_count": 35,
     "metadata": {},
     "output_type": "execute_result"
    }
   ],
   "source": [
    "last_order_date"
   ]
  },
  {
   "cell_type": "code",
   "execution_count": 36,
   "metadata": {},
   "outputs": [
    {
     "data": {
      "text/plain": [
       "array([3196, 3187, 6388, 3169, 4546, 4547, 3651,  164, 2701, 5874, 5896,\n",
       "       3307,  297, 3626, 2871, 5212, 5161, 4869, 3575, 5841])"
      ]
     },
     "execution_count": 36,
     "metadata": {},
     "output_type": "execute_result"
    }
   ],
   "source": [
    "list_items_in_all_order"
   ]
  },
  {
   "cell_type": "code",
   "execution_count": 37,
   "metadata": {},
   "outputs": [
    {
     "data": {
      "text/plain": [
       "array([3196, 3187, 6388, 3169])"
      ]
     },
     "execution_count": 37,
     "metadata": {},
     "output_type": "execute_result"
    }
   ],
   "source": [
    "list_items_in_last_order"
   ]
  },
  {
   "cell_type": "code",
   "execution_count": 38,
   "metadata": {},
   "outputs": [
    {
     "data": {
      "text/plain": [
       "[4546,\n",
       " 4547,\n",
       " 3651,\n",
       " 4869,\n",
       " 5896,\n",
       " 2701,\n",
       " 5841,\n",
       " 5212,\n",
       " 164,\n",
       " 297,\n",
       " 3626,\n",
       " 3307,\n",
       " 5161,\n",
       " 2871,\n",
       " 5874,\n",
       " 3575]"
      ]
     },
     "execution_count": 38,
     "metadata": {},
     "output_type": "execute_result"
    }
   ],
   "source": [
    "list_prev_purch_items_not_in_last_order"
   ]
  },
  {
   "cell_type": "code",
   "execution_count": 39,
   "metadata": {
    "collapsed": true
   },
   "outputs": [],
   "source": [
    "all_order_df[\"variant_id\"] = all_order_df[\"variant_id\"].astype(int)\n",
    "basket = (all_order_df.sort_values('order_date', ascending = True).groupby(['order_date', \"variant_id\"])['quantity']\n",
    "          .sum().unstack().reset_index().fillna(0)\n",
    "          .set_index('order_date'))\n"
   ]
  },
  {
   "cell_type": "code",
   "execution_count": 40,
   "metadata": {},
   "outputs": [
    {
     "data": {
      "text/html": [
       "<div>\n",
       "<style>\n",
       "    .dataframe thead tr:only-child th {\n",
       "        text-align: right;\n",
       "    }\n",
       "\n",
       "    .dataframe thead th {\n",
       "        text-align: left;\n",
       "    }\n",
       "\n",
       "    .dataframe tbody tr th {\n",
       "        vertical-align: top;\n",
       "    }\n",
       "</style>\n",
       "<table border=\"1\" class=\"dataframe\">\n",
       "  <thead>\n",
       "    <tr style=\"text-align: right;\">\n",
       "      <th>variant_id</th>\n",
       "      <th>164</th>\n",
       "      <th>297</th>\n",
       "      <th>2701</th>\n",
       "      <th>2871</th>\n",
       "      <th>3169</th>\n",
       "      <th>3187</th>\n",
       "      <th>3196</th>\n",
       "      <th>3307</th>\n",
       "      <th>3575</th>\n",
       "      <th>3626</th>\n",
       "      <th>3651</th>\n",
       "      <th>4546</th>\n",
       "      <th>4547</th>\n",
       "      <th>4869</th>\n",
       "      <th>5161</th>\n",
       "      <th>5212</th>\n",
       "      <th>5841</th>\n",
       "      <th>5874</th>\n",
       "      <th>5896</th>\n",
       "      <th>6388</th>\n",
       "    </tr>\n",
       "    <tr>\n",
       "      <th>order_date</th>\n",
       "      <th></th>\n",
       "      <th></th>\n",
       "      <th></th>\n",
       "      <th></th>\n",
       "      <th></th>\n",
       "      <th></th>\n",
       "      <th></th>\n",
       "      <th></th>\n",
       "      <th></th>\n",
       "      <th></th>\n",
       "      <th></th>\n",
       "      <th></th>\n",
       "      <th></th>\n",
       "      <th></th>\n",
       "      <th></th>\n",
       "      <th></th>\n",
       "      <th></th>\n",
       "      <th></th>\n",
       "      <th></th>\n",
       "      <th></th>\n",
       "    </tr>\n",
       "  </thead>\n",
       "  <tbody>\n",
       "    <tr>\n",
       "      <th>2017-10-19</th>\n",
       "      <td>2.0</td>\n",
       "      <td>0.0</td>\n",
       "      <td>0.0</td>\n",
       "      <td>0.0</td>\n",
       "      <td>3.0</td>\n",
       "      <td>10.0</td>\n",
       "      <td>1.0</td>\n",
       "      <td>0.0</td>\n",
       "      <td>0.0</td>\n",
       "      <td>0.0</td>\n",
       "      <td>2.0</td>\n",
       "      <td>0.0</td>\n",
       "      <td>0.0</td>\n",
       "      <td>0.0</td>\n",
       "      <td>0.0</td>\n",
       "      <td>0.0</td>\n",
       "      <td>0.0</td>\n",
       "      <td>0.0</td>\n",
       "      <td>0.0</td>\n",
       "      <td>3.0</td>\n",
       "    </tr>\n",
       "    <tr>\n",
       "      <th>2017-10-20</th>\n",
       "      <td>0.0</td>\n",
       "      <td>0.0</td>\n",
       "      <td>0.0</td>\n",
       "      <td>0.0</td>\n",
       "      <td>0.0</td>\n",
       "      <td>10.0</td>\n",
       "      <td>1.0</td>\n",
       "      <td>0.0</td>\n",
       "      <td>0.0</td>\n",
       "      <td>0.0</td>\n",
       "      <td>0.0</td>\n",
       "      <td>0.0</td>\n",
       "      <td>0.0</td>\n",
       "      <td>0.0</td>\n",
       "      <td>0.0</td>\n",
       "      <td>0.0</td>\n",
       "      <td>0.0</td>\n",
       "      <td>0.0</td>\n",
       "      <td>0.0</td>\n",
       "      <td>3.0</td>\n",
       "    </tr>\n",
       "    <tr>\n",
       "      <th>2017-10-23</th>\n",
       "      <td>0.0</td>\n",
       "      <td>0.0</td>\n",
       "      <td>0.0</td>\n",
       "      <td>0.0</td>\n",
       "      <td>0.0</td>\n",
       "      <td>10.0</td>\n",
       "      <td>1.0</td>\n",
       "      <td>0.0</td>\n",
       "      <td>0.0</td>\n",
       "      <td>0.0</td>\n",
       "      <td>0.0</td>\n",
       "      <td>0.0</td>\n",
       "      <td>1.0</td>\n",
       "      <td>0.0</td>\n",
       "      <td>0.0</td>\n",
       "      <td>0.0</td>\n",
       "      <td>0.0</td>\n",
       "      <td>0.0</td>\n",
       "      <td>0.0</td>\n",
       "      <td>3.0</td>\n",
       "    </tr>\n",
       "    <tr>\n",
       "      <th>2017-10-24</th>\n",
       "      <td>0.0</td>\n",
       "      <td>0.0</td>\n",
       "      <td>0.0</td>\n",
       "      <td>0.0</td>\n",
       "      <td>0.0</td>\n",
       "      <td>10.0</td>\n",
       "      <td>1.0</td>\n",
       "      <td>0.0</td>\n",
       "      <td>0.0</td>\n",
       "      <td>0.0</td>\n",
       "      <td>0.0</td>\n",
       "      <td>1.0</td>\n",
       "      <td>0.0</td>\n",
       "      <td>0.0</td>\n",
       "      <td>0.0</td>\n",
       "      <td>0.0</td>\n",
       "      <td>0.0</td>\n",
       "      <td>0.0</td>\n",
       "      <td>0.0</td>\n",
       "      <td>0.0</td>\n",
       "    </tr>\n",
       "    <tr>\n",
       "      <th>2017-10-25</th>\n",
       "      <td>0.0</td>\n",
       "      <td>0.0</td>\n",
       "      <td>0.0</td>\n",
       "      <td>0.0</td>\n",
       "      <td>3.0</td>\n",
       "      <td>10.0</td>\n",
       "      <td>1.0</td>\n",
       "      <td>0.0</td>\n",
       "      <td>0.0</td>\n",
       "      <td>0.0</td>\n",
       "      <td>0.0</td>\n",
       "      <td>0.0</td>\n",
       "      <td>0.0</td>\n",
       "      <td>0.0</td>\n",
       "      <td>0.0</td>\n",
       "      <td>0.0</td>\n",
       "      <td>0.0</td>\n",
       "      <td>0.0</td>\n",
       "      <td>0.0</td>\n",
       "      <td>3.0</td>\n",
       "    </tr>\n",
       "  </tbody>\n",
       "</table>\n",
       "</div>"
      ],
      "text/plain": [
       "variant_id  164   297   2701  2871  3169  3187  3196  3307  3575  3626  3651  \\\n",
       "order_date                                                                     \n",
       "2017-10-19   2.0   0.0   0.0   0.0   3.0  10.0   1.0   0.0   0.0   0.0   2.0   \n",
       "2017-10-20   0.0   0.0   0.0   0.0   0.0  10.0   1.0   0.0   0.0   0.0   0.0   \n",
       "2017-10-23   0.0   0.0   0.0   0.0   0.0  10.0   1.0   0.0   0.0   0.0   0.0   \n",
       "2017-10-24   0.0   0.0   0.0   0.0   0.0  10.0   1.0   0.0   0.0   0.0   0.0   \n",
       "2017-10-25   0.0   0.0   0.0   0.0   3.0  10.0   1.0   0.0   0.0   0.0   0.0   \n",
       "\n",
       "variant_id  4546  4547  4869  5161  5212  5841  5874  5896  6388  \n",
       "order_date                                                        \n",
       "2017-10-19   0.0   0.0   0.0   0.0   0.0   0.0   0.0   0.0   3.0  \n",
       "2017-10-20   0.0   0.0   0.0   0.0   0.0   0.0   0.0   0.0   3.0  \n",
       "2017-10-23   0.0   1.0   0.0   0.0   0.0   0.0   0.0   0.0   3.0  \n",
       "2017-10-24   1.0   0.0   0.0   0.0   0.0   0.0   0.0   0.0   0.0  \n",
       "2017-10-25   0.0   0.0   0.0   0.0   0.0   0.0   0.0   0.0   3.0  "
      ]
     },
     "execution_count": 40,
     "metadata": {},
     "output_type": "execute_result"
    }
   ],
   "source": [
    "basket = basket[(basket.T != 0).any()]\n",
    "basket = basket.loc[:, (basket != 0).any(axis=0)]\n",
    "basket.index = pd.to_datetime(basket.index)\n",
    "basket.tail()"
   ]
  },
  {
   "cell_type": "code",
   "execution_count": 41,
   "metadata": {
    "collapsed": true
   },
   "outputs": [],
   "source": [
    "def getProphet(df):\n",
    "    #ProphetModel \n",
    "    m = Prophet()\n",
    "    m.fit(df);\n",
    "    #add today to dataframe\n",
    "    future_df = df.filter([\"ds\"], axis=1)\n",
    "    today_df = pd.DataFrame(data = [dt.date.today()], columns = [\"ds\"])\n",
    "    future = future_df.append(today_df, ignore_index=True)\n",
    "    forecast = m.predict(future)\n",
    "    forecast[\"yhat\"] = forecast[\"yhat\"].astype(int)\n",
    "    return forecast\n"
   ]
  },
  {
   "cell_type": "code",
   "execution_count": 42,
   "metadata": {},
   "outputs": [
    {
     "name": "stdout",
     "output_type": "stream",
     "text": [
      "Disabling yearly seasonality. Run prophet with yearly_seasonality=True to override this.\n",
      "Disabling yearly seasonality. Run prophet with yearly_seasonality=True to override this.\n",
      "Disabling yearly seasonality. Run prophet with yearly_seasonality=True to override this.\n",
      "Disabling yearly seasonality. Run prophet with yearly_seasonality=True to override this.\n",
      "Disabling yearly seasonality. Run prophet with yearly_seasonality=True to override this.\n",
      "Disabling yearly seasonality. Run prophet with yearly_seasonality=True to override this.\n",
      "Disabling yearly seasonality. Run prophet with yearly_seasonality=True to override this.\n",
      "Disabling yearly seasonality. Run prophet with yearly_seasonality=True to override this.\n",
      "Disabling yearly seasonality. Run prophet with yearly_seasonality=True to override this.\n",
      "Disabling yearly seasonality. Run prophet with yearly_seasonality=True to override this.\n",
      "Disabling yearly seasonality. Run prophet with yearly_seasonality=True to override this.\n",
      "Disabling yearly seasonality. Run prophet with yearly_seasonality=True to override this.\n",
      "Disabling yearly seasonality. Run prophet with yearly_seasonality=True to override this.\n",
      "Disabling yearly seasonality. Run prophet with yearly_seasonality=True to override this.\n",
      "Disabling yearly seasonality. Run prophet with yearly_seasonality=True to override this.\n",
      "Disabling yearly seasonality. Run prophet with yearly_seasonality=True to override this.\n",
      "Disabling yearly seasonality. Run prophet with yearly_seasonality=True to override this.\n",
      "Disabling yearly seasonality. Run prophet with yearly_seasonality=True to override this.\n",
      "Disabling yearly seasonality. Run prophet with yearly_seasonality=True to override this.\n",
      "Disabling yearly seasonality. Run prophet with yearly_seasonality=True to override this.\n"
     ]
    }
   ],
   "source": [
    "trim_basket = [] \n",
    "df_trim = {}\n",
    "var_quantit = {}\n",
    "ymin = 0\n",
    "ymax = 0\n",
    "\n",
    "for var_id in basket:\n",
    "    s1 = pd.Series(basket.index, name = \"ds\").reset_index(drop = True)\n",
    "    s2 = pd.Series(basket[var_id], name = \"y\").reset_index(drop = True)\n",
    "    df = pd.concat([s1, s2], axis=1)\n",
    "    df[\"ds\"] = pd.to_datetime(df[\"ds\"])\n",
    "    forecast = getProphet(df)\n",
    "    forecast_quant = forecast[\"yhat\"].iloc[-1]\n",
    "    #print (forecast_quantity)\n",
    "    if (forecast_quant > 0):\n",
    "        trim_basket.append(var_id)\n",
    "        df_trim[var_id] = forecast\n",
    "        var_quantit[var_id] = forecast.yhat.iat[-1]\n",
    "        if (ymax < df_trim[var_id]['yhat'].max()):\n",
    "            ymax = df_trim[var_id]['yhat'].max()"
   ]
  },
  {
   "cell_type": "code",
   "execution_count": 43,
   "metadata": {
    "collapsed": true
   },
   "outputs": [],
   "source": [
    "def getProphetPredictionGraph(var_id, label, ax, forecast_df, observedsize, xminaxis, xmaxaxis, ymin, ymax):\n",
    "    x = forecast_df[\"ds\"]\n",
    "    x = pd.to_datetime(x)\n",
    "    y = forecast_df[\"yhat\"]\n",
    "    xobs = x[0:observedsize]\n",
    "    yobs = y[0:observedsize]\n",
    "    xpred =  x[observedsize-1:]\n",
    "    ypred =  y[observedsize-1:]\n",
    "    xpredp =  x[observedsize:]\n",
    "    ypredp =  y[observedsize:]\n",
    "    plt.xticks(rotation=80, ha=\"right\")\n",
    "    ax.format_xdata = mdates.DateFormatter('%Y-%m-%d')\n",
    "    ax.plot(xobs,yobs, linestyle=\"-\", marker = \"o\", markerfacecolor=\"None\", markeredgecolor=\"blue\", markeredgewidth=1, label=\"Observed\")\n",
    "    ax.plot(xpred, ypred, linestyle=\"--\", color = \"red\", label=\"_nolegend_\")\n",
    "    ax.plot(xpredp,ypredp, linestyle=\"--\", markersize=8,  marker = \"o\", color = \"red\", label='Predicted')\n",
    "    p = ax.plot(xpredp,ypredp,  marker = \"o\", markersize=14, markerfacecolor=\"None\", markeredgecolor=\"red\", markeredgewidth=1,color = \"red\", label='_nolegend_')\n",
    "    ax.set_title(label)\n",
    "    ax.set_autoscale_on(False)\n",
    "    plt.setp( ax.xaxis.get_majorticklabels(), rotation=80 )\n",
    "    ax.set_xlim(xmin = xmin, xmax = xmax)\n",
    "    yint = range(ymin, math.ceil(ymax)+3)\n",
    "    ax.yaxis.set_ticks(yint)\n",
    "    ax.legend(loc=2)\n",
    "    return \n"
   ]
  },
  {
   "cell_type": "code",
   "execution_count": 44,
   "metadata": {
    "scrolled": true
   },
   "outputs": [
    {
     "data": {
      "image/png": "[encoded data removed]",
      "text/plain": [
       "<matplotlib.figure.Figure at 0x7f7d59879c18>"
      ]
     },
     "metadata": {},
     "output_type": "display_data"
    }
   ],
   "source": [
    "\n",
    "### plot all items for particular company\n",
    "numItems = len(trim_basket)\n",
    "numCol = 2\n",
    "numRow = numItems // numCol + (numItems % numCol > 0)\n",
    "reminder = numItems%numCol\n",
    "height = 4 * numRow\n",
    "#print (ymax)\n",
    "#fig, axes = plt.subplots(nrows=numRow, ncols=numCol, sharex=True, sharey=True, figsize=(12, height))\n",
    "fig, axes = plt.subplots(nrows=numRow, ncols=numCol, figsize=(12, height))\n",
    "#axes_list = [item for sublist in axes for item in sublist] \n",
    "\n",
    "axes_list = axes.tolist()\n",
    "\n",
    "counter = 0\n",
    "for var_id in trim_basket:\n",
    "    label =  \"var_id \"+str(var_id)+\": \"+description_dict[var_id]\n",
    "    forecast_df = df_trim[var_id]   \n",
    "    forecast_df[\"ds\"] = pd.to_datetime(forecast_df[\"ds\"])\n",
    "    #predictionsize = forecast_df.shape[0]-df.shape[0]\n",
    "    observedsize = forecast_df.shape[0] - 1\n",
    "    ax = fig.axes[counter]\n",
    "    getProphetPredictionGraph(var_id, label, ax, forecast_df, observedsize, xminaxis, xmaxaxis, ymin, ymax)\n",
    "    counter = counter + 1\n",
    "\n",
    "while counter < numItems:\n",
    "    ax = (fig.axes[counter])\n",
    "    ax.plot(0,0)\n",
    "    counter = counter +1\n",
    "    #ax.tick_params(labelbottom='off')  \n",
    "\n",
    "fig.text(0.5, -0.01, 'Order date', ha='center')\n",
    "fig.text(-0.01, 0.5, 'Quantity', va='center', rotation='vertical')\n",
    "plt.suptitle(\"Company: \"+str(company_id), y=1.01)\n",
    "\n",
    "fig.tight_layout()\n",
    "fig.show()\n",
    "#print (xminaxis, xmaxaxis)"
   ]
  },
  {
   "cell_type": "code",
   "execution_count": 45,
   "metadata": {
    "collapsed": true
   },
   "outputs": [],
   "source": [
    "filteron = [\"variant_id\", \"prod_description\", \"quantity\"]\n",
    "#print \"Recommended order: \"\n",
    "filtered_all_order = all_order_df.filter(items = filteron)\n",
    "new_order = filtered_all_order[filtered_all_order['variant_id'].isin(trim_basket)]\n",
    "filtered_new_order = new_order.drop_duplicates(subset='variant_id', keep='first', inplace=False).reset_index(drop=True)\n",
    "for var_id in trim_basket:\n",
    "    filtered_new_order['quantity'][filtered_new_order.variant_id == var_id] = int(var_quantit[var_id])\n",
    "\n",
    "\n",
    "recom_order_items = filtered_new_order[\"variant_id\"]\n",
    "recom_order_display = filtered_new_order.copy(deep = True)\n",
    "recom_order_display.rename(columns = {\"variant_id\": \"Product ID\", \"prod_description\": \"Product Description\",\"quantity\": \"Quantity\"}, inplace = True)\n",
    "\n",
    "last_order = last_order_df.filter(items = filteron)\n",
    "last_order.rename(columns = {\"variant_id\": \"Product ID\", \"prod_description\": \"Product Description\",\"quantity\": \"Quantity\"}, inplace = True)\n",
    "\n",
    "top_items = getTopFiveItemsNotInCurrentOrder(all_order_df, trim_basket)\n",
    "top_items.rename(columns = {\"variant_id\": \"Product ID\", \"prod_description\": \"Product Description\",\"Avg_quantity\": \"Avg quantity\"}, inplace = True)\n",
    "\n",
    "\n",
    "list_items = recom_order_items.tolist()\n",
    "boughtTogether = getCommonBoughtTogether(all_orders_over_time, list_items)\n"
   ]
  },
  {
   "cell_type": "code",
   "execution_count": 46,
   "metadata": {},
   "outputs": [
    {
     "name": "stdout",
     "output_type": "stream",
     "text": [
      "   Product ID Product Description  Quantity\n",
      "0        3187         Bananas 1lb      10.0\n",
      "1        6388          Pears, 1lb       1.0\n",
      "2        3169     Clementines 1lb       1.0\n",
      "3        3651    Green Apples 1lb       1.0\n",
      "4         164      Red Apples 1lb       1.0\n",
      "5        5896        Apricots 1lb       1.0\n"
     ]
    }
   ],
   "source": [
    "print (recom_order_display)"
   ]
  },
  {
   "cell_type": "code",
   "execution_count": 47,
   "metadata": {},
   "outputs": [
    {
     "name": "stdout",
     "output_type": "stream",
     "text": [
      "   Product ID           Product Description  Quantity\n",
      "0        3196  Organic Baby Carrots 2oz 6ct       1.0\n",
      "1        3187                   Bananas 1lb      10.0\n",
      "2        6388                    Pears, 1lb       3.0\n",
      "3        3169               Clementines 1lb       3.0\n"
     ]
    }
   ],
   "source": [
    "print (last_order)"
   ]
  },
  {
   "cell_type": "code",
   "execution_count": 48,
   "metadata": {},
   "outputs": [
    {
     "name": "stdout",
     "output_type": "stream",
     "text": [
      "   Product ID           Product Description  Avg quantity\n",
      "0        3196  Organic Baby Carrots 2oz 6ct             1\n",
      "1        4546     Rudi's Organic Bread 22oz             1\n",
      "2        4547     Rudi's Organic Bread 22oz             1\n",
      "3        2701           English Muffin 12oz             1\n",
      "4        5874        Organic Nectarines 1lb             2\n"
     ]
    }
   ],
   "source": [
    "print (top_items)"
   ]
  },
  {
   "cell_type": "code",
   "execution_count": 55,
   "metadata": {},
   "outputs": [
    {
     "data": {
      "text/html": [
       "<div>\n",
       "<style>\n",
       "    .dataframe thead tr:only-child th {\n",
       "        text-align: right;\n",
       "    }\n",
       "\n",
       "    .dataframe thead th {\n",
       "        text-align: left;\n",
       "    }\n",
       "\n",
       "    .dataframe tbody tr th {\n",
       "        vertical-align: top;\n",
       "    }\n",
       "</style>\n",
       "<table border=\"1\" class=\"dataframe\">\n",
       "  <thead>\n",
       "    <tr style=\"text-align: right;\">\n",
       "      <th></th>\n",
       "      <th>variant_id1</th>\n",
       "      <th>prod_description1</th>\n",
       "      <th>variant_id2</th>\n",
       "      <th>prod_description2</th>\n",
       "    </tr>\n",
       "  </thead>\n",
       "  <tbody>\n",
       "    <tr>\n",
       "      <th>0</th>\n",
       "      <td>(3187, 3651, 164)</td>\n",
       "      <td>Bananas, Organic 1lb,Green Apples 1lb,Red Appl...</td>\n",
       "      <td>(3169)</td>\n",
       "      <td>Clementines 1lb</td>\n",
       "    </tr>\n",
       "    <tr>\n",
       "      <th>1</th>\n",
       "      <td>(3169, 3187, 164)</td>\n",
       "      <td>Clementines 1lb,Bananas, Organic 1lb,Red Apple...</td>\n",
       "      <td>(3651)</td>\n",
       "      <td>Green Apples 1lb</td>\n",
       "    </tr>\n",
       "    <tr>\n",
       "      <th>2</th>\n",
       "      <td>(3169, 3651, 164)</td>\n",
       "      <td>Clementines 1lb,Green Apples 1lb,Red Apples 1lb</td>\n",
       "      <td>(3187)</td>\n",
       "      <td>Bananas, Organic 1lb</td>\n",
       "    </tr>\n",
       "    <tr>\n",
       "      <th>3</th>\n",
       "      <td>(3187, 3651, 164)</td>\n",
       "      <td>Bananas, Organic 1lb,Green Apples 1lb,Red Appl...</td>\n",
       "      <td>(3196)</td>\n",
       "      <td>Organic Baby Carrots 2oz 6ct</td>\n",
       "    </tr>\n",
       "    <tr>\n",
       "      <th>4</th>\n",
       "      <td>(3187, 3169, 3651)</td>\n",
       "      <td>Bananas, Organic 1lb,Clementines 1lb,Green App...</td>\n",
       "      <td>(164)</td>\n",
       "      <td>Red Apples 1lb</td>\n",
       "    </tr>\n",
       "  </tbody>\n",
       "</table>\n",
       "</div>"
      ],
      "text/plain": [
       "          variant_id1                                  prod_description1  \\\n",
       "0   (3187, 3651, 164)  Bananas, Organic 1lb,Green Apples 1lb,Red Appl...   \n",
       "1   (3169, 3187, 164)  Clementines 1lb,Bananas, Organic 1lb,Red Apple...   \n",
       "2   (3169, 3651, 164)    Clementines 1lb,Green Apples 1lb,Red Apples 1lb   \n",
       "3   (3187, 3651, 164)  Bananas, Organic 1lb,Green Apples 1lb,Red Appl...   \n",
       "4  (3187, 3169, 3651)  Bananas, Organic 1lb,Clementines 1lb,Green App...   \n",
       "\n",
       "  variant_id2             prod_description2  \n",
       "0      (3169)               Clementines 1lb  \n",
       "1      (3651)              Green Apples 1lb  \n",
       "2      (3187)          Bananas, Organic 1lb  \n",
       "3      (3196)  Organic Baby Carrots 2oz 6ct  \n",
       "4       (164)                Red Apples 1lb  "
      ]
     },
     "execution_count": 55,
     "metadata": {},
     "output_type": "execute_result"
    }
   ],
   "source": [
    "filteron = [\"antecedants\", \"current_list\", \"consequents\", \"recommend_list\"]\n",
    "boughtTogetherPairs = boughtTogether.filter(items = filteron)\n",
    "colnamesList = [\"variant_id1\", \"prod_description1\", \"variant_id2\", \"prod_description2\"]\n",
    "boughtTogetherPairs.columns =  colnamesList\n",
    "boughtTogetherPairs.head()"
   ]
  },
  {
   "cell_type": "code",
   "execution_count": 1,
   "metadata": {},
   "outputs": [
    {
     "ename": "NameError",
     "evalue": "name 'boughtTogetherPairs' is not defined",
     "output_type": "error",
     "traceback": [
      "\u001b[0;31m---------------------------------------------------------------------------\u001b[0m",
      "\u001b[0;31mNameError\u001b[0m                                 Traceback (most recent call last)",
      "\u001b[0;32m<ipython-input-1-048ca49e95ba>\u001b[0m in \u001b[0;36m<module>\u001b[0;34m()\u001b[0m\n\u001b[0;32m----> 1\u001b[0;31m \u001b[0mdisplayboughtTogetherPairs\u001b[0m \u001b[0;34m=\u001b[0m \u001b[0mboughtTogetherPairs\u001b[0m\u001b[0;34m.\u001b[0m\u001b[0mcopy\u001b[0m\u001b[0;34m(\u001b[0m\u001b[0mdeep\u001b[0m\u001b[0;34m=\u001b[0m\u001b[0mTrue\u001b[0m\u001b[0;34m)\u001b[0m\u001b[0;34m\u001b[0m\u001b[0m\n\u001b[0m\u001b[1;32m      2\u001b[0m \u001b[0;32mfor\u001b[0m \u001b[0mindex\u001b[0m\u001b[0;34m,\u001b[0m \u001b[0mrow\u001b[0m \u001b[0;32min\u001b[0m \u001b[0mdisplayboughtTogetherPairs\u001b[0m\u001b[0;34m.\u001b[0m\u001b[0miterrows\u001b[0m\u001b[0;34m(\u001b[0m\u001b[0;34m)\u001b[0m\u001b[0;34m:\u001b[0m\u001b[0;34m\u001b[0m\u001b[0m\n\u001b[1;32m      3\u001b[0m     \u001b[0mprod_list1\u001b[0m \u001b[0;34m=\u001b[0m \u001b[0;34m(\u001b[0m\u001b[0mlist\u001b[0m\u001b[0;34m(\u001b[0m\u001b[0mrow\u001b[0m\u001b[0;34m[\u001b[0m\u001b[0;34m\"variant_id1\"\u001b[0m\u001b[0;34m]\u001b[0m\u001b[0;34m)\u001b[0m\u001b[0;34m)\u001b[0m\u001b[0;34m\u001b[0m\u001b[0m\n\u001b[1;32m      4\u001b[0m     \u001b[0mnewlist\u001b[0m \u001b[0;34m=\u001b[0m \u001b[0;34m[\u001b[0m\u001b[0mint\u001b[0m\u001b[0;34m(\u001b[0m\u001b[0ml\u001b[0m\u001b[0;34m)\u001b[0m \u001b[0;32mfor\u001b[0m \u001b[0ml\u001b[0m \u001b[0;32min\u001b[0m \u001b[0mprod_list1\u001b[0m\u001b[0;34m]\u001b[0m\u001b[0;34m\u001b[0m\u001b[0m\n\u001b[1;32m      5\u001b[0m     \u001b[0mstr1\u001b[0m \u001b[0;34m=\u001b[0m \u001b[0;34m\"\\n\"\u001b[0m\u001b[0;34m.\u001b[0m\u001b[0mjoin\u001b[0m\u001b[0;34m(\u001b[0m\u001b[0mstr\u001b[0m\u001b[0;34m(\u001b[0m\u001b[0mx\u001b[0m\u001b[0;34m)\u001b[0m \u001b[0;32mfor\u001b[0m \u001b[0mx\u001b[0m \u001b[0;32min\u001b[0m \u001b[0mnewlist\u001b[0m\u001b[0;34m)\u001b[0m\u001b[0;34m\u001b[0m\u001b[0m\n",
      "\u001b[0;31mNameError\u001b[0m: name 'boughtTogetherPairs' is not defined"
     ]
    }
   ],
   "source": [
    "displayboughtTogetherPairs = boughtTogetherPairs.copy(deep=True)\n",
    "for index, row in displayboughtTogetherPairs.iterrows():\n",
    "    prod_list1 = (list(row[\"variant_id1\"]))\n",
    "    newlist = [int(l) for l in prod_list1]\n",
    "    str1 = \"\\n\".join(str(x) for x in newlist)\n",
    "    row[\"variant_id1\"] = str1\n",
    "    prod_list2 = (list(row[\"variant_id2\"]))\n",
    "    newlist = [int(l) for l in prod_list2]\n",
    "    str1 = \"\\n\".join(str(x) for x in newlist)\n",
    "    row[\"variant_id2\"] = str1\n",
    "    str1 = row[\"prod_description1\"].replace(\",\", \"\\n\")\n",
    "    row[\"prod_description1\"] = str1\n",
    "    str1 = row[\"prod_description2\"].replace(\",\", \"\\n\")\n",
    "    row[\"prod_description2\"] = str1\n",
    "\n",
    "displayboughtTogetherPairs.head()"
   ]
  },
  {
   "cell_type": "code",
   "execution_count": null,
   "metadata": {
    "collapsed": true
   },
   "outputs": [],
   "source": []
  }
 ],
 "metadata": {
  "kernelspec": {
   "display_name": "Python 3",
   "language": "python",
   "name": "python3"
  },
  "language_info": {
   "codemirror_mode": {
    "name": "ipython",
    "version": 3
   },
   "file_extension": ".py",
   "mimetype": "text/x-python",
   "name": "python",
   "nbconvert_exporter": "python",
   "pygments_lexer": "ipython3",
   "version": "3.6.2"
  }
 },
 "nbformat": 4,
 "nbformat_minor": 2
}
