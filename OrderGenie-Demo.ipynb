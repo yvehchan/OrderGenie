{
 "cells": [
  {
   "cell_type": "code",
   "execution_count": 1,
   "metadata": {
    "collapsed": true
   },
   "outputs": [],
   "source": [
    "import warnings\n",
    "warnings.filterwarnings('ignore')\n",
    "import pandas as pd\n",
    "import pandas.io.sql as psql\n",
    "import numpy as np\n",
    "import matplotlib.pyplot as plt\n",
    "import itertools\n",
    "import matplotlib.dates as mdates\n",
    "import datetime as dt\n",
    "from datetime import datetime\n",
    "import time\n",
    "from datetime import timedelta\n",
    "from collections import defaultdict, Counter\n",
    "from mlxtend.frequent_patterns import apriori\n",
    "from mlxtend.frequent_patterns import association_rules\n",
    "from fbprophet import Prophet \n",
    "from itertools import chain, combinations\n",
    "import math\n",
    "import matplotlib.ticker as ticker"
   ]
  },
  {
   "cell_type": "code",
   "execution_count": 2,
   "metadata": {},
   "outputs": [],
   "source": [
    "from ordergeniefunctions import *"
   ]
  },
  {
   "cell_type": "code",
   "execution_count": 3,
   "metadata": {
    "collapsed": true
   },
   "outputs": [],
   "source": [
    "%matplotlib inline\n",
    "\n",
    "##need to change to user input for company id from commandline in script \n",
    "company_id = 94"
   ]
  },
  {
   "cell_type": "code",
   "execution_count": 4,
   "metadata": {},
   "outputs": [
    {
     "name": "stdout",
     "output_type": "stream",
     "text": [
      "(210197, 10)\n"
     ]
    },
    {
     "data": {
      "text/html": [
       "<div>\n",
       "<style>\n",
       "    .dataframe thead tr:only-child th {\n",
       "        text-align: right;\n",
       "    }\n",
       "\n",
       "    .dataframe thead th {\n",
       "        text-align: left;\n",
       "    }\n",
       "\n",
       "    .dataframe tbody tr th {\n",
       "        vertical-align: top;\n",
       "    }\n",
       "</style>\n",
       "<table border=\"1\" class=\"dataframe\">\n",
       "  <thead>\n",
       "    <tr style=\"text-align: right;\">\n",
       "      <th></th>\n",
       "      <th>actual_order_id</th>\n",
       "      <th>quantity</th>\n",
       "      <th>price</th>\n",
       "      <th>prod_description</th>\n",
       "      <th>total_for_item</th>\n",
       "      <th>variant_id</th>\n",
       "      <th>sku</th>\n",
       "      <th>company_id</th>\n",
       "      <th>total_for_order</th>\n",
       "      <th>order_date</th>\n",
       "    </tr>\n",
       "  </thead>\n",
       "  <tbody>\n",
       "    <tr>\n",
       "      <th>0</th>\n",
       "      <td>27852</td>\n",
       "      <td>1.0</td>\n",
       "      <td>5.19</td>\n",
       "      <td>Hummus, 2oz</td>\n",
       "      <td>5.19</td>\n",
       "      <td>4336</td>\n",
       "      <td>Sabra-Hummus-2oz-Original-Case</td>\n",
       "      <td>118</td>\n",
       "      <td>534.57</td>\n",
       "      <td>2018-01-10</td>\n",
       "    </tr>\n",
       "    <tr>\n",
       "      <th>1</th>\n",
       "      <td>27852</td>\n",
       "      <td>6.0</td>\n",
       "      <td>0.75</td>\n",
       "      <td>Red Apples</td>\n",
       "      <td>4.50</td>\n",
       "      <td>4886</td>\n",
       "      <td>fruit-organic-red-apples-fuji-single</td>\n",
       "      <td>118</td>\n",
       "      <td>534.57</td>\n",
       "      <td>2018-01-10</td>\n",
       "    </tr>\n",
       "  </tbody>\n",
       "</table>\n",
       "</div>"
      ],
      "text/plain": [
       "   actual_order_id  quantity  price prod_description  total_for_item  \\\n",
       "0            27852       1.0   5.19      Hummus, 2oz            5.19   \n",
       "1            27852       6.0   0.75       Red Apples            4.50   \n",
       "\n",
       "   variant_id                                   sku  company_id  \\\n",
       "0        4336        Sabra-Hummus-2oz-Original-Case         118   \n",
       "1        4886  fruit-organic-red-apples-fuji-single         118   \n",
       "\n",
       "   total_for_order  order_date  \n",
       "0           534.57  2018-01-10  \n",
       "1           534.57  2018-01-10  "
      ]
     },
     "execution_count": 4,
     "metadata": {},
     "output_type": "execute_result"
    }
   ],
   "source": [
    "all_orders_over_time = pd.read_csv(\"new_updated_all_orders.csv\")\n",
    "all_orders_over_time['order_date'] = pd.to_datetime(all_orders_over_time['order_date'], errors='coerce').dt.date\n",
    "all_orders_over_time[\"variant_id\"] = all_orders_over_time[\"variant_id\"].astype(int)\n",
    "description_dict = dict(zip(all_orders_over_time.variant_id,all_orders_over_time.prod_description))\n",
    "print (all_orders_over_time.shape)\n",
    "all_orders_over_time.head(2)\n"
   ]
  },
  {
   "cell_type": "code",
   "execution_count": 5,
   "metadata": {},
   "outputs": [],
   "source": [
    "##get date range\n",
    "earliestDate =  all_orders_over_time[\"order_date\"].min()\n",
    "xmin = earliestDate\n",
    "xmax = dt.date.today()\n",
    "xminaxis = xmin - timedelta(days=5)\n",
    "xmaxaxis = xmax + timedelta(days=12)"
   ]
  },
  {
   "cell_type": "code",
   "execution_count": 6,
   "metadata": {},
   "outputs": [],
   "source": [
    "dfcompany = all_orders_over_time[all_orders_over_time[\"company_id\"] == company_id]\n",
    "dfsize = dfcompany.shape[0]\n",
    "if ( dfsize== 0):\n",
    "\tprint (\"company doesn't exist\")\n",
    "\texit "
   ]
  },
  {
   "cell_type": "code",
   "execution_count": 7,
   "metadata": {},
   "outputs": [
    {
     "name": "stdout",
     "output_type": "stream",
     "text": [
      "All orders by company\n",
      "   actual_order_id  quantity  price   prod_description  total_for_item  \\\n",
      "0            27801       8.0   3.89   Raspberries, 6oz           31.12   \n",
      "1            27801       1.0   4.81            Tea Box            4.81   \n",
      "2            27801       1.0   2.59  Rice Cakes, 8.5oz            2.59   \n",
      "\n",
      "   variant_id                                             sku  company_id  \\\n",
      "0         167                    fruit-raspberries-6oz-single          94   \n",
      "1        2626                Numi-Tea-GingerLemon-16ct-Single          94   \n",
      "2        1610  Lundberg-RiceCake-SaltFreeBrownRice-8oz-Single          94   \n",
      "\n",
      "   total_for_order  order_date  \n",
      "0           560.47  2018-01-10  \n",
      "1           560.47  2018-01-10  \n",
      "2           560.47  2018-01-10  \n"
     ]
    }
   ],
   "source": [
    "all_order_df = get_all_orders_by_company(all_orders_over_time, company_id)\n",
    "print (\"All orders by company\")\n",
    "print (all_order_df.head(3))"
   ]
  },
  {
   "cell_type": "code",
   "execution_count": 8,
   "metadata": {},
   "outputs": [
    {
     "name": "stdout",
     "output_type": "stream",
     "text": [
      "last order date\n",
      "2018-01-10\n"
     ]
    }
   ],
   "source": [
    "last_order_df = get_last_order_by_company(all_orders_over_time, company_id)\n",
    "last_order_date = get_last_order_date(all_orders_over_time, company_id)\n",
    "print (\"last order date\")\n",
    "print (last_order_date)"
   ]
  },
  {
   "cell_type": "code",
   "execution_count": 9,
   "metadata": {},
   "outputs": [
    {
     "name": "stdout",
     "output_type": "stream",
     "text": [
      "list_items_in_all_order\n",
      "[ 167 2626 1610  459 3132 4083 3780 2624 1825 4034  241 5211 2943 4578 2188\n",
      " 5626 4075 3902 6854 2286 4423 2859 3778 4686 1139 6803  494 4183 1697 1855\n",
      " 5686   37 2708 4266 3246 1707  173 3983 6322 1730 1495 1679  669 1375 1514\n",
      "  170 4886 3979 1978  715  161 4210 6060 2628 2967 4089 4336  994 4250 2711\n",
      "  249 1246 1685 2811 1733  713 4319  266 2345 4074  654 1507 4992 2304 1520\n",
      " 5018 5017 1974 1148 3243 4197 1756 1771  336 4045 6163 6104 3350  456 4850\n",
      " 4687 2893 1299 1338  287 3242 1498 4192 4073 2895 4300 6470 1927 1704 1747\n",
      " 4188 1710 5698 1724 1727 4409  666 4072 2505 1700 6111 4508 4481 3548 2735\n",
      " 2979 4235 6904  698 3973 4287  310 1136 3907 3905 1889 6110 2710 4071 5237\n",
      " 2756 1736 3985 1934 5019  152 4479 5701 5728 4534 2747 5092 3134 5695 4069\n",
      "  284 1010 4407 5532 1868 2191 4843 1823 5670 4945 1745  663 4370 6806  328\n",
      " 4724 5014 4327 2557 5809 4476 4037 4039 4993 2737  584  176 5209 4894 3800\n",
      " 4403 3561 5024  168 1843  919 1750 1940 2235 3799 3072 3026 1837 2865 4416\n",
      " 1858 4744  384 4190 4184 1994 4076 5811 3549  657 2857 6729 1981 2233 3247\n",
      " 2904 4189  174 2319 1270 1285 1347  480 2732 1688  804 2427 1748  920 5889\n",
      " 6412 6113 1935  660 3388 5291  171 4251 1647 2541  672 1133 1739 2189 1721\n",
      " 4710 2788 4026 2932 4505 1765  502 4187 1852 1504 1768 5022 4185 3511 4848\n",
      " 5117 5397 2885 2978 1134 5533 3249 1701 3752  153 3986 3438 3903 2980 1728\n",
      " 3779 4032 6107 4301   38 1844 6108 1698 1869 2896 2898 1725 3353 1856  219\n",
      "  583 1757  177 3073 6114 5954 1731 6115 2939 1734 6350 1722 3351 3984 1859\n",
      " 3882  729 3781 4887 4352 4523 4711 1928 4750 2960 1930 4509 1853 4186 5910\n",
      " 5694 2317  297 1137 2192 4404 1751 4220 4191]\n"
     ]
    }
   ],
   "source": [
    "list_items_in_all_order = get_all_order_items(all_orders_over_time, company_id)\n",
    "print (\"list_items_in_all_order\")\n",
    "print (list_items_in_all_order)"
   ]
  },
  {
   "cell_type": "code",
   "execution_count": 10,
   "metadata": {},
   "outputs": [
    {
     "name": "stdout",
     "output_type": "stream",
     "text": [
      "list_items_in_last_order\n",
      "[ 167 2626 1610  459 3132 4083 3780 2624 1825 4034  241 5211 2943 4578 2188\n",
      " 5626 4075 3902 6854 2286 4423 2859 3778 4686 1139 6803  494 4183 1697 1855\n",
      " 5686   37 2708 4266 3246 1707  173 3983 6322 1730 1495 1679  669 1375 1514\n",
      "  170 4886 3979 1978  715  161 4210 6060 2628 2967 4089 4336  994 4250 2711\n",
      "  249 1246 1685 2811 1733  713 4319  266]\n"
     ]
    }
   ],
   "source": [
    "list_items_in_last_order = get_last_order_items(all_orders_over_time, company_id)\n",
    "print (\"list_items_in_last_order\")\n",
    "print (list_items_in_last_order)"
   ]
  },
  {
   "cell_type": "code",
   "execution_count": 11,
   "metadata": {},
   "outputs": [
    {
     "name": "stdout",
     "output_type": "stream",
     "text": [
      "list_prev_purch_items_not_in_last_order\n"
     ]
    },
    {
     "data": {
      "text/plain": [
       "[3072,\n",
       " 3073,\n",
       " 6163,\n",
       " 38,\n",
       " 3134,\n",
       " 4184,\n",
       " 5209,\n",
       " 4185,\n",
       " 4188,\n",
       " 4189,\n",
       " 4190,\n",
       " 4187,\n",
       " 4192,\n",
       " 4186,\n",
       " 4191,\n",
       " 4197,\n",
       " 1133,\n",
       " 1134,\n",
       " 1136,\n",
       " 1137,\n",
       " 5237,\n",
       " 1148,\n",
       " 4220,\n",
       " 4235,\n",
       " 2189,\n",
       " 2191,\n",
       " 2192,\n",
       " 152,\n",
       " 153,\n",
       " 4251,\n",
       " 168,\n",
       " 3243,\n",
       " 3242,\n",
       " 176,\n",
       " 3247,\n",
       " 171,\n",
       " 174,\n",
       " 177,\n",
       " 3249,\n",
       " 2233,\n",
       " 2235,\n",
       " 4287,\n",
       " 4300,\n",
       " 4301,\n",
       " 6350,\n",
       " 219,\n",
       " 4327,\n",
       " 1270,\n",
       " 2304,\n",
       " 4352,\n",
       " 1285,\n",
       " 6412,\n",
       " 2317,\n",
       " 2319,\n",
       " 4370,\n",
       " 1299,\n",
       " 5397,\n",
       " 3350,\n",
       " 3351,\n",
       " 3353,\n",
       " 284,\n",
       " 287,\n",
       " 2345,\n",
       " 297,\n",
       " 4403,\n",
       " 4404,\n",
       " 310,\n",
       " 4407,\n",
       " 4409,\n",
       " 1338,\n",
       " 3388,\n",
       " 4416,\n",
       " 1347,\n",
       " 6470,\n",
       " 328,\n",
       " 336,\n",
       " 3438,\n",
       " 2427,\n",
       " 4476,\n",
       " 4479,\n",
       " 384,\n",
       " 4481,\n",
       " 4505,\n",
       " 4508,\n",
       " 5532,\n",
       " 5533,\n",
       " 4509,\n",
       " 4523,\n",
       " 4534,\n",
       " 3511,\n",
       " 456,\n",
       " 2505,\n",
       " 1498,\n",
       " 3548,\n",
       " 3549,\n",
       " 1504,\n",
       " 480,\n",
       " 1507,\n",
       " 3561,\n",
       " 2541,\n",
       " 1520,\n",
       " 502,\n",
       " 2557,\n",
       " 5670,\n",
       " 5694,\n",
       " 5695,\n",
       " 5698,\n",
       " 5701,\n",
       " 583,\n",
       " 584,\n",
       " 6729,\n",
       " 4687,\n",
       " 5728,\n",
       " 4710,\n",
       " 4711,\n",
       " 1647,\n",
       " 4724,\n",
       " 4744,\n",
       " 654,\n",
       " 4750,\n",
       " 657,\n",
       " 2710,\n",
       " 663,\n",
       " 6806,\n",
       " 666,\n",
       " 1688,\n",
       " 660,\n",
       " 672,\n",
       " 1698,\n",
       " 1700,\n",
       " 1701,\n",
       " 1704,\n",
       " 3752,\n",
       " 2732,\n",
       " 1710,\n",
       " 2735,\n",
       " 5809,\n",
       " 2737,\n",
       " 5811,\n",
       " 1721,\n",
       " 698,\n",
       " 2747,\n",
       " 1724,\n",
       " 1725,\n",
       " 1722,\n",
       " 1727,\n",
       " 1728,\n",
       " 1731,\n",
       " 3781,\n",
       " 2756,\n",
       " 1736,\n",
       " 3779,\n",
       " 1739,\n",
       " 1734,\n",
       " 1745,\n",
       " 1747,\n",
       " 1748,\n",
       " 1750,\n",
       " 3799,\n",
       " 3800,\n",
       " 729,\n",
       " 1751,\n",
       " 1756,\n",
       " 1757,\n",
       " 2788,\n",
       " 1765,\n",
       " 1768,\n",
       " 1771,\n",
       " 4843,\n",
       " 4848,\n",
       " 4850,\n",
       " 6904,\n",
       " 5889,\n",
       " 4887,\n",
       " 5910,\n",
       " 4894,\n",
       " 1823,\n",
       " 804,\n",
       " 2857,\n",
       " 3882,\n",
       " 1837,\n",
       " 2865,\n",
       " 1843,\n",
       " 1844,\n",
       " 1852,\n",
       " 1853,\n",
       " 1856,\n",
       " 3905,\n",
       " 1858,\n",
       " 3907,\n",
       " 5954,\n",
       " 2885,\n",
       " 1859,\n",
       " 3903,\n",
       " 1868,\n",
       " 2893,\n",
       " 1869,\n",
       " 2895,\n",
       " 2896,\n",
       " 4945,\n",
       " 2898,\n",
       " 2904,\n",
       " 1889,\n",
       " 2932,\n",
       " 2939,\n",
       " 4992,\n",
       " 4993,\n",
       " 3973,\n",
       " 1927,\n",
       " 1928,\n",
       " 1930,\n",
       " 1934,\n",
       " 2960,\n",
       " 1935,\n",
       " 3985,\n",
       " 3986,\n",
       " 1940,\n",
       " 3984,\n",
       " 5014,\n",
       " 919,\n",
       " 5017,\n",
       " 5018,\n",
       " 5019,\n",
       " 920,\n",
       " 5022,\n",
       " 5024,\n",
       " 2978,\n",
       " 2979,\n",
       " 2980,\n",
       " 1974,\n",
       " 4026,\n",
       " 1981,\n",
       " 4032,\n",
       " 4037,\n",
       " 4039,\n",
       " 1994,\n",
       " 4045,\n",
       " 3026,\n",
       " 6104,\n",
       " 6107,\n",
       " 6108,\n",
       " 6110,\n",
       " 6111,\n",
       " 6113,\n",
       " 6114,\n",
       " 6115,\n",
       " 5092,\n",
       " 4069,\n",
       " 4071,\n",
       " 4072,\n",
       " 4073,\n",
       " 4074,\n",
       " 4076,\n",
       " 1010,\n",
       " 5291,\n",
       " 5117]"
      ]
     },
     "execution_count": 11,
     "metadata": {},
     "output_type": "execute_result"
    }
   ],
   "source": [
    "list_prev_purch_items_not_in_last_order = get_non_last_order_items(all_orders_over_time, company_id)\n",
    "print (\"list_prev_purch_items_not_in_last_order\")\n",
    "list_prev_purch_items_not_in_last_order"
   ]
  },
  {
   "cell_type": "code",
   "execution_count": 12,
   "metadata": {},
   "outputs": [
    {
     "data": {
      "text/html": [
       "<div>\n",
       "<style>\n",
       "    .dataframe thead tr:only-child th {\n",
       "        text-align: right;\n",
       "    }\n",
       "\n",
       "    .dataframe thead th {\n",
       "        text-align: left;\n",
       "    }\n",
       "\n",
       "    .dataframe tbody tr th {\n",
       "        vertical-align: top;\n",
       "    }\n",
       "</style>\n",
       "<table border=\"1\" class=\"dataframe\">\n",
       "  <thead>\n",
       "    <tr style=\"text-align: right;\">\n",
       "      <th></th>\n",
       "      <th>actual_order_id</th>\n",
       "      <th>quantity</th>\n",
       "      <th>price</th>\n",
       "      <th>prod_description</th>\n",
       "      <th>total_for_item</th>\n",
       "      <th>variant_id</th>\n",
       "      <th>sku</th>\n",
       "      <th>company_id</th>\n",
       "      <th>total_for_order</th>\n",
       "      <th>order_date</th>\n",
       "    </tr>\n",
       "  </thead>\n",
       "  <tbody>\n",
       "    <tr>\n",
       "      <th>68</th>\n",
       "      <td>27648</td>\n",
       "      <td>1.0</td>\n",
       "      <td>4.81</td>\n",
       "      <td>Tea Box</td>\n",
       "      <td>4.81</td>\n",
       "      <td>2628</td>\n",
       "      <td>Numi-Tea-ChamomileLemon-18ct-Single</td>\n",
       "      <td>94</td>\n",
       "      <td>734.33</td>\n",
       "      <td>2018-01-09</td>\n",
       "    </tr>\n",
       "    <tr>\n",
       "      <th>69</th>\n",
       "      <td>27648</td>\n",
       "      <td>1.0</td>\n",
       "      <td>26.93</td>\n",
       "      <td>Raw Almonds, 2.5lb</td>\n",
       "      <td>26.93</td>\n",
       "      <td>6163</td>\n",
       "      <td>OMGBulk-OrgRawAlmonds-2-5lb-Case</td>\n",
       "      <td>94</td>\n",
       "      <td>734.33</td>\n",
       "      <td>2018-01-09</td>\n",
       "    </tr>\n",
       "    <tr>\n",
       "      <th>70</th>\n",
       "      <td>27648</td>\n",
       "      <td>1.0</td>\n",
       "      <td>4.93</td>\n",
       "      <td>Cinnamon Toast Crunch Cereal, 12.2 oz</td>\n",
       "      <td>4.93</td>\n",
       "      <td>4578</td>\n",
       "      <td>CinnamonToastCrunch-12oz-Single</td>\n",
       "      <td>94</td>\n",
       "      <td>734.33</td>\n",
       "      <td>2018-01-09</td>\n",
       "    </tr>\n",
       "  </tbody>\n",
       "</table>\n",
       "</div>"
      ],
      "text/plain": [
       "    actual_order_id  quantity  price                       prod_description  \\\n",
       "68            27648       1.0   4.81                                Tea Box   \n",
       "69            27648       1.0  26.93                     Raw Almonds, 2.5lb   \n",
       "70            27648       1.0   4.93  Cinnamon Toast Crunch Cereal, 12.2 oz   \n",
       "\n",
       "    total_for_item  variant_id                                  sku  \\\n",
       "68            4.81        2628  Numi-Tea-ChamomileLemon-18ct-Single   \n",
       "69           26.93        6163     OMGBulk-OrgRawAlmonds-2-5lb-Case   \n",
       "70            4.93        4578      CinnamonToastCrunch-12oz-Single   \n",
       "\n",
       "    company_id  total_for_order  order_date  \n",
       "68          94           734.33  2018-01-09  \n",
       "69          94           734.33  2018-01-09  \n",
       "70          94           734.33  2018-01-09  "
      ]
     },
     "execution_count": 12,
     "metadata": {},
     "output_type": "execute_result"
    }
   ],
   "source": [
    "all_minus_last_df = get_all_except_last(all_order_df, company_id)\n",
    "all_minus_last_df.head(3)"
   ]
  },
  {
   "cell_type": "code",
   "execution_count": 13,
   "metadata": {},
   "outputs": [
    {
     "name": "stdout",
     "output_type": "stream",
     "text": [
      "Quantity of Items over Time\n",
      "variant_id  161   170   2188  4319  4886  6322\n",
      "order_date                                    \n",
      "2018-01-04  10.0   8.0  30.0   6.0   4.0   6.0\n",
      "2018-01-07  15.0   8.0  30.0   6.0   6.0   6.0\n",
      "2018-01-08  15.0  10.0  30.0   6.0   6.0   6.0\n",
      "2018-01-09  15.0  10.0   0.0   6.0   6.0   6.0\n",
      "2018-01-10  15.0  10.0  30.0   6.0   6.0   6.0\n"
     ]
    }
   ],
   "source": [
    "basket = (all_order_df.sort_values('order_date', ascending = True).groupby(['order_date', \"variant_id\"])['quantity']\n",
    "          .sum().unstack().reset_index().fillna(0)\n",
    "          .set_index('order_date'))\n",
    "basket = basket[(basket.T != 0).any()]\n",
    "basket = basket.loc[:, (basket != 0).any(axis=0)]\n",
    "basket.index = pd.to_datetime(basket.index)\n",
    "basket = basket.reindex_axis(basket.sum().sort_values( ascending=False).index, axis=1)\n",
    "\n",
    "###limit basket size for demo purposes \n",
    "basket = basket.iloc[:,0:6]\n",
    "\n",
    "print (\"Quantity of Items over Time\")\n",
    "print (basket.tail(5)) "
   ]
  },
  {
   "cell_type": "code",
   "execution_count": 14,
   "metadata": {
    "collapsed": true
   },
   "outputs": [],
   "source": [
    "def getProphet(df):\n",
    "    #ProphetModel \n",
    "    m = Prophet()\n",
    "    m.fit(df);\n",
    "    #add today to dataframe\n",
    "    future_df = df.filter([\"ds\"], axis=1)\n",
    "    today_df = pd.DataFrame(data = [dt.date.today()], columns = [\"ds\"])\n",
    "    future = future_df.append(today_df, ignore_index=True)\n",
    "    forecast = m.predict(future)\n",
    "    forecast[\"yhat\"] = forecast[\"yhat\"].astype(int)\n",
    "    return forecast\n",
    "\n",
    "def getProphetPredictionGraph(var_id, label, ax, forecast_df, observedsize, xminaxis, xmaxaxis, ymin, ymax):\n",
    "    ##forecast[['ds', 'yhat', 'yhat_lower', 'yhat_upper']]\n",
    "    x = forecast_df[\"ds\"]\n",
    "    x = pd.to_datetime(x)\n",
    "    y = forecast_df[\"yhat\"]\n",
    "    xobs = x[0:observedsize]\n",
    "    yobs = y[0:observedsize]\n",
    "    xpred =  x[observedsize-1:]\n",
    "    ypred =  y[observedsize-1:]\n",
    "    xpredp =  x[observedsize:]\n",
    "    ypredp =  y[observedsize:]\n",
    "    plt.xticks(rotation=80, ha=\"right\")\n",
    "    ax.format_xdata = mdates.DateFormatter('%Y-%m-%d')\n",
    "    ax.plot(xobs,yobs, linestyle=\"-\", marker = \"o\", markerfacecolor=\"None\", markeredgecolor=\"blue\", markeredgewidth=1, label=\"Observed\")\n",
    "    ax.plot(xpred, ypred, linestyle=\"--\", color = \"red\", label=\"_nolegend_\")\n",
    "    ax.plot(xpredp,ypredp, linestyle=\"--\", markersize=8,  marker = \"o\", color = \"red\", label='Predicted')\n",
    "    p = ax.plot(xpredp,ypredp,  marker = \"o\", markersize=14, markerfacecolor=\"None\", markeredgecolor=\"red\", markeredgewidth=1,color = \"red\", label='_nolegend_')\n",
    "    ax.set_title(label)\n",
    "    ax.set_autoscale_on(False)\n",
    "    plt.setp( ax.xaxis.get_majorticklabels(), rotation=80 )\n",
    "    ax.set_xlim(xmin = xmin, xmax = xmax)\n",
    "    yint = range(ymin, math.ceil(ymax)+3)\n",
    "    ax.yaxis.set_ticks(yint)\n",
    "    ax.legend(loc=2)\n",
    "    return "
   ]
  },
  {
   "cell_type": "code",
   "execution_count": 15,
   "metadata": {},
   "outputs": [
    {
     "name": "stdout",
     "output_type": "stream",
     "text": [
      "sku:  161\n",
      "Disabling yearly seasonality. Run prophet with yearly_seasonality=True to override this.\n",
      "sku:  170\n",
      "Disabling yearly seasonality. Run prophet with yearly_seasonality=True to override this.\n",
      "sku:  2188\n",
      "Disabling yearly seasonality. Run prophet with yearly_seasonality=True to override this.\n",
      "sku:  4319\n",
      "Disabling yearly seasonality. Run prophet with yearly_seasonality=True to override this.\n",
      "sku:  4886\n",
      "Disabling yearly seasonality. Run prophet with yearly_seasonality=True to override this.\n",
      "sku:  6322\n",
      "Disabling yearly seasonality. Run prophet with yearly_seasonality=True to override this.\n"
     ]
    }
   ],
   "source": [
    "trim_basket = [] \n",
    "df_trim = {}\n",
    "var_quantit = {}\n",
    "ymin = 0\n",
    "ymax = 0\n",
    "\n",
    "for var_id in basket:\n",
    "    print (\"sku: \", var_id)\n",
    "    s1 = pd.Series(basket.index, name = \"ds\").reset_index(drop = True)\n",
    "    s2 = pd.Series(basket[var_id], name = \"y\").reset_index(drop = True)\n",
    "\n",
    "    df = pd.concat([s1, s2], axis=1)\n",
    "    df[\"ds\"] = pd.to_datetime(df[\"ds\"])\n",
    "    \n",
    "    forecast = getProphet(df)\n",
    "    forecast_quant = forecast[\"yhat\"].iloc[-1]\n",
    "    #print (forecast_quantity)\n",
    "    if (forecast_quant > 0):\n",
    "        trim_basket.append(var_id)\n",
    "        df_trim[var_id] = forecast\n",
    "        var_quantit[var_id] = forecast_quant\n",
    "        if (ymax < df_trim[var_id]['yhat'].max()):\n",
    "            ymax = df_trim[var_id]['yhat'].max()"
   ]
  },
  {
   "cell_type": "code",
   "execution_count": 16,
   "metadata": {},
   "outputs": [
    {
     "data": {
      "text/plain": [
       "[161, 170, 2188, 4319, 4886, 6322]"
      ]
     },
     "execution_count": 16,
     "metadata": {},
     "output_type": "execute_result"
    }
   ],
   "source": [
    "trim_basket"
   ]
  },
  {
   "cell_type": "code",
   "execution_count": 17,
   "metadata": {
    "collapsed": true
   },
   "outputs": [],
   "source": [
    "filteron = [\"variant_id\", \"prod_description\", \"quantity\"]\n",
    "#print \"Recommended order: \"\n",
    "filtered_all_order = all_order_df.filter(items = filteron)\n",
    "new_order = filtered_all_order[filtered_all_order['variant_id'].isin(trim_basket)]\n",
    "filtered_new_order = new_order.drop_duplicates(subset='variant_id', keep='first', inplace=False).reset_index(drop=True)\n",
    "for var_id in trim_basket:\n",
    "    filtered_new_order['quantity'][filtered_new_order.variant_id == var_id] = int(var_quantit[var_id])"
   ]
  },
  {
   "cell_type": "markdown",
   "metadata": {},
   "source": [
    "# forecasted order"
   ]
  },
  {
   "cell_type": "code",
   "execution_count": 18,
   "metadata": {},
   "outputs": [
    {
     "data": {
      "image/png": "[encoded data removed]",
      "text/plain": [
       "<matplotlib.figure.Figure at 0x7fad14e6bb38>"
      ]
     },
     "metadata": {},
     "output_type": "display_data"
    }
   ],
   "source": [
    "### plot all items for particular company\n",
    "numItems = len(trim_basket)\n",
    "numCol = 2\n",
    "numRow = numItems // numCol + (numItems % numCol > 0)\n",
    "reminder = numItems%numCol\n",
    "height = 4 * numRow\n",
    "\n",
    "#fig, axes = plt.subplots(nrows=numRow, ncols=numCol, sharex=True, sharey=True, figsize=(12, height))\n",
    "fig, axes = plt.subplots(nrows=numRow, ncols=numCol, figsize=(12, height))\n",
    "#axes_list = [item for sublist in axes for item in sublist] \n",
    "\n",
    "axes_list = axes.tolist()\n",
    "\n",
    "counter = 0\n",
    "for var_id in trim_basket:\n",
    "    label =  description_dict[var_id]\n",
    "    forecast_df = df_trim[var_id]   \n",
    "    forecast_df[\"ds\"] = pd.to_datetime(forecast_df[\"ds\"])\n",
    "    #predictionsize = forecast_df.shape[0]-df.shape[0]\n",
    "    observedsize = forecast_df.shape[0] - 1\n",
    "    ax = fig.axes[counter]\n",
    "    getProphetPredictionGraph(var_id, label, ax, forecast_df, observedsize, xminaxis, xmaxaxis, ymin, ymax)\n",
    "    counter = counter + 1\n",
    "\n",
    "while counter < numItems:\n",
    "    ax = (fig.axes[counter])\n",
    "    ax.plot(0,0)\n",
    "    counter = counter +1\n",
    "    #ax.tick_params(labelbottom='off')  \n",
    "\n",
    "fig.text(0.5, -0.01, 'Order date', ha='center')\n",
    "fig.text(-0.01, 0.5, 'Quantity', va='center', rotation='vertical')\n",
    "plt.suptitle(\"Company: \"+str(company_id), y=1.01)\n",
    "\n",
    "fig.tight_layout()\n",
    "fig.show()"
   ]
  },
  {
   "cell_type": "code",
   "execution_count": 19,
   "metadata": {},
   "outputs": [
    {
     "name": "stdout",
     "output_type": "stream",
     "text": [
      "  Product ID                Product Description  Quantity\n",
      "0       2188        Tcho Chocolate Mini, 0.28oz      34.0\n",
      "1       6322  Rise Nitro Cold Brew Coffee, 11oz       6.0\n",
      "2        170                           Avocados       8.0\n",
      "3       4886                         Red Apples       5.0\n",
      "4        161                      Bananas, 1lb       14.0\n",
      "5       4319                Tortilla Chips, 1oz       5.0\n"
     ]
    }
   ],
   "source": [
    "recom_order_items = filtered_new_order[\"variant_id\"]\n",
    "#recom_order_items[\"variant_id\"] = recom_order_items[\"variant_id\"].astype(str)\n",
    "recom_order_display = filtered_new_order.copy(deep = True).reset_index(drop=True)\n",
    "recom_order_display[\"variant_id\"] = recom_order_display[\"variant_id\"].astype(int).astype(str)\n",
    "recom_order_display.rename(columns = {\"variant_id\": \"Product ID\", \"prod_description\": \"Product Description\",\"quantity\": \"Quantity\"}, inplace = True)\n",
    "\n",
    "print (recom_order_display)"
   ]
  },
  {
   "cell_type": "markdown",
   "metadata": {},
   "source": [
    "# last order from company for reference"
   ]
  },
  {
   "cell_type": "code",
   "execution_count": 20,
   "metadata": {},
   "outputs": [
    {
     "data": {
      "text/html": [
       "<div>\n",
       "<style>\n",
       "    .dataframe thead tr:only-child th {\n",
       "        text-align: right;\n",
       "    }\n",
       "\n",
       "    .dataframe thead th {\n",
       "        text-align: left;\n",
       "    }\n",
       "\n",
       "    .dataframe tbody tr th {\n",
       "        vertical-align: top;\n",
       "    }\n",
       "</style>\n",
       "<table border=\"1\" class=\"dataframe\">\n",
       "  <thead>\n",
       "    <tr style=\"text-align: right;\">\n",
       "      <th></th>\n",
       "      <th>Product ID</th>\n",
       "      <th>Product Description</th>\n",
       "      <th>Quantity</th>\n",
       "    </tr>\n",
       "  </thead>\n",
       "  <tbody>\n",
       "    <tr>\n",
       "      <th>0</th>\n",
       "      <td>167</td>\n",
       "      <td>Raspberries, 6oz</td>\n",
       "      <td>8.0</td>\n",
       "    </tr>\n",
       "    <tr>\n",
       "      <th>1</th>\n",
       "      <td>2626</td>\n",
       "      <td>Tea Box</td>\n",
       "      <td>1.0</td>\n",
       "    </tr>\n",
       "    <tr>\n",
       "      <th>2</th>\n",
       "      <td>1610</td>\n",
       "      <td>Rice Cakes, 8.5oz</td>\n",
       "      <td>1.0</td>\n",
       "    </tr>\n",
       "    <tr>\n",
       "      <th>3</th>\n",
       "      <td>459</td>\n",
       "      <td>Tea, 16.9oz</td>\n",
       "      <td>1.0</td>\n",
       "    </tr>\n",
       "    <tr>\n",
       "      <th>4</th>\n",
       "      <td>3132</td>\n",
       "      <td>Yogurt, 4oz</td>\n",
       "      <td>1.0</td>\n",
       "    </tr>\n",
       "  </tbody>\n",
       "</table>\n",
       "</div>"
      ],
      "text/plain": [
       "  Product ID Product Description  Quantity\n",
       "0        167    Raspberries, 6oz       8.0\n",
       "1       2626             Tea Box       1.0\n",
       "2       1610   Rice Cakes, 8.5oz       1.0\n",
       "3        459         Tea, 16.9oz       1.0\n",
       "4       3132         Yogurt, 4oz       1.0"
      ]
     },
     "execution_count": 20,
     "metadata": {},
     "output_type": "execute_result"
    }
   ],
   "source": [
    "last_order_filtered = last_order_df.filter(items = filteron).reset_index(drop=True)\n",
    "last_order_filtered[\"variant_id\"] = last_order_filtered[\"variant_id\"].astype(int).astype(str)\n",
    "last_order_filtered.rename(columns = {\"variant_id\": \"Product ID\", \"prod_description\": \"Product Description\",\"quantity\": \"Quantity\"}, inplace = True)\n",
    "last_order_filtered.head()\n"
   ]
  },
  {
   "cell_type": "markdown",
   "metadata": {},
   "source": [
    "# frequently purchased items from company "
   ]
  },
  {
   "cell_type": "code",
   "execution_count": 21,
   "metadata": {},
   "outputs": [
    {
     "name": "stdout",
     "output_type": "stream",
     "text": [
      "  Product ID Product Description  Avg quantity\n",
      "0        167    Raspberries, 6oz             8\n",
      "1       2626             Tea Box             1\n",
      "2       1610   Rice Cakes, 8.5oz             1\n",
      "3        459         Tea, 16.9oz             1\n",
      "4       3132         Yogurt, 4oz             1\n"
     ]
    }
   ],
   "source": [
    "top_items = getTopFiveItemsNotInCurrentOrder(all_order_df, trim_basket).reset_index(drop=True)\n",
    "top_items[\"variant_id\"] = top_items[\"variant_id\"].astype(int).astype(str)\n",
    "top_items.rename(columns = {\"variant_id\": \"Product ID\", \"prod_description\": \"Product Description\",\"Avg_quantity\": \"Avg quantity\"}, inplace = True)\n",
    "print (top_items)"
   ]
  },
  {
   "cell_type": "markdown",
   "metadata": {},
   "source": [
    "# Recommended items based on products frequently purchased together"
   ]
  },
  {
   "cell_type": "code",
   "execution_count": 22,
   "metadata": {},
   "outputs": [],
   "source": [
    "list_items = recom_order_items.tolist()\n",
    "boughtTogether = getCommonBoughtTogether(all_orders_over_time, list_items)\n",
    "filteron = [\"antecedants\", \"current_list\", \"consequents\", \"recommend_list\"]\n",
    "boughtTogetherPairs = boughtTogether.filter(items = filteron)\n",
    "colnamesList = [\"variant_id1\", \"prod_description1\", \"variant_id2\", \"prod_description2\"]\n",
    "boughtTogetherPairs.columns =  colnamesList"
   ]
  },
  {
   "cell_type": "code",
   "execution_count": 23,
   "metadata": {},
   "outputs": [
    {
     "data": {
      "text/html": [
       "<div>\n",
       "<style>\n",
       "    .dataframe thead tr:only-child th {\n",
       "        text-align: right;\n",
       "    }\n",
       "\n",
       "    .dataframe thead th {\n",
       "        text-align: left;\n",
       "    }\n",
       "\n",
       "    .dataframe tbody tr th {\n",
       "        vertical-align: top;\n",
       "    }\n",
       "</style>\n",
       "<table border=\"1\" class=\"dataframe\">\n",
       "  <thead>\n",
       "    <tr style=\"text-align: right;\">\n",
       "      <th></th>\n",
       "      <th>Sku</th>\n",
       "      <th>Current order</th>\n",
       "      <th>Sku</th>\n",
       "      <th>Recommended</th>\n",
       "    </tr>\n",
       "  </thead>\n",
       "  <tbody>\n",
       "    <tr>\n",
       "      <th>0</th>\n",
       "      <td>161,170,4886</td>\n",
       "      <td>Bananas 1lb ,Avocados,Red Apples</td>\n",
       "      <td>1375</td>\n",
       "      <td>Organic Cooked Eggs 24ct</td>\n",
       "    </tr>\n",
       "    <tr>\n",
       "      <th>1</th>\n",
       "      <td>161,170,4319</td>\n",
       "      <td>Bananas 1lb ,Avocados,Tortilla Chips 1oz</td>\n",
       "      <td>1246</td>\n",
       "      <td>Chocolate Chip Cookies 1.25oz</td>\n",
       "    </tr>\n",
       "    <tr>\n",
       "      <th>2</th>\n",
       "      <td>161,170,4886</td>\n",
       "      <td>Bananas 1lb ,Avocados,Red Apples</td>\n",
       "      <td>167</td>\n",
       "      <td>Raspberries 6oz</td>\n",
       "    </tr>\n",
       "    <tr>\n",
       "      <th>4</th>\n",
       "      <td>170,4319</td>\n",
       "      <td>Avocados,Tortilla Chips 1oz</td>\n",
       "      <td>161,1246</td>\n",
       "      <td>Bananas 1lb ,Chocolate Chip Cookies 1.25oz</td>\n",
       "    </tr>\n",
       "    <tr>\n",
       "      <th>5</th>\n",
       "      <td>161,4319</td>\n",
       "      <td>Bananas 1lb ,Tortilla Chips 1oz</td>\n",
       "      <td>170,1246</td>\n",
       "      <td>Avocados,Chocolate Chip Cookies 1.25oz</td>\n",
       "    </tr>\n",
       "  </tbody>\n",
       "</table>\n",
       "</div>"
      ],
      "text/plain": [
       "            Sku                             Current order       Sku  \\\n",
       "0  161,170,4886          Bananas 1lb ,Avocados,Red Apples      1375   \n",
       "1  161,170,4319  Bananas 1lb ,Avocados,Tortilla Chips 1oz      1246   \n",
       "2  161,170,4886          Bananas 1lb ,Avocados,Red Apples       167   \n",
       "4      170,4319               Avocados,Tortilla Chips 1oz  161,1246   \n",
       "5      161,4319           Bananas 1lb ,Tortilla Chips 1oz  170,1246   \n",
       "\n",
       "                                  Recommended  \n",
       "0                    Organic Cooked Eggs 24ct  \n",
       "1               Chocolate Chip Cookies 1.25oz  \n",
       "2                             Raspberries 6oz  \n",
       "4  Bananas 1lb ,Chocolate Chip Cookies 1.25oz  \n",
       "5      Avocados,Chocolate Chip Cookies 1.25oz  "
      ]
     },
     "execution_count": 23,
     "metadata": {},
     "output_type": "execute_result"
    }
   ],
   "source": [
    "displayboughtTogetherPairs = boughtTogetherPairs.copy(deep=True)\n",
    "for index, row in displayboughtTogetherPairs.iterrows():\n",
    "    prod_list1 = (list(row[\"variant_id1\"]))\n",
    "    newlist = [int(l) for l in prod_list1]\n",
    "    str1 = \",\".join(str(x) for x in newlist)\n",
    "    row[\"variant_id1\"] = str1\n",
    "    prod_list2 = (list(row[\"variant_id2\"]))\n",
    "    newlist = [int(l) for l in prod_list2]\n",
    "    str1 = \",\".join(str(x) for x in newlist)\n",
    "    row[\"variant_id2\"] = str1\n",
    "    str1 = row[\"prod_description1\"]\n",
    "    row[\"prod_description1\"] = str1.strip(\",\\n\")\n",
    "    str1 = row[\"prod_description2\"]\n",
    "    row[\"prod_description2\"] = str1.strip(\",\\n\")\n",
    "colnamesList = [\"Sku\", \"Current order\", \"Sku\", \"Recommended\"]\n",
    "displayboughtTogetherPairs.columns = colnamesList\n",
    "displayboughtTogetherPairs.head()"
   ]
  }
 ],
 "metadata": {
  "kernelspec": {
   "display_name": "Python 3",
   "language": "python",
   "name": "python3"
  },
  "language_info": {
   "codemirror_mode": {
    "name": "ipython",
    "version": 3
   },
   "file_extension": ".py",
   "mimetype": "text/x-python",
   "name": "python",
   "nbconvert_exporter": "python",
   "pygments_lexer": "ipython3",
   "version": "3.6.2"
  }
 },
 "nbformat": 4,
 "nbformat_minor": 2
}
